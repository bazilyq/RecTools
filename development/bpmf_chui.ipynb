{
 "cells": [
  {
   "cell_type": "code",
   "execution_count": 11,
   "metadata": {},
   "outputs": [],
   "source": [
    "import numpy as np\n",
    "from rectools.models.bpmf_chyi import BPMF, load_movielens_1m_ratings, RMSE"
   ]
  },
  {
   "cell_type": "code",
   "execution_count": 12,
   "metadata": {},
   "outputs": [],
   "source": [
    "ratings = load_movielens_1m_ratings('ml-1m/ratings.dat')\n",
    "n_user = max(ratings[:, 0])\n",
    "n_item = max(ratings[:, 1])\n",
    "ratings[:, (0, 1)] -= 1 # shift ids by 1 to let user_id & movie_id start from 0"
   ]
  },
  {
   "cell_type": "code",
   "execution_count": 13,
   "metadata": {},
   "outputs": [
    {
     "name": "stdout",
     "output_type": "stream",
     "text": [
      "(1000209, 10) (1000209, 10) (1000209,) (1000209, 2)\n",
      "iteration: 1, train RMSE: 0.9984871609417347\n",
      "(1000209, 10) (1000209, 10) (1000209,) (1000209, 2)\n",
      "iteration: 2, train RMSE: 0.9531291821196354\n",
      "(1000209, 10) (1000209, 10) (1000209,) (1000209, 2)\n",
      "iteration: 3, train RMSE: 0.9239053090136984\n",
      "(1000209, 10) (1000209, 10) (1000209,) (1000209, 2)\n",
      "iteration: 4, train RMSE: 0.9065048539678308\n",
      "(1000209, 10) (1000209, 10) (1000209,) (1000209, 2)\n",
      "iteration: 5, train RMSE: 0.894284618786761\n",
      "(1000209, 10) (1000209, 10) (1000209,) (1000209, 2)\n",
      "iteration: 6, train RMSE: 0.8847051822597233\n",
      "(1000209, 10) (1000209, 10) (1000209,) (1000209, 2)\n",
      "iteration: 7, train RMSE: 0.8767772991877805\n",
      "(1000209, 10) (1000209, 10) (1000209,) (1000209, 2)\n",
      "iteration: 8, train RMSE: 0.8699092773579369\n",
      "(1000209, 10) (1000209, 10) (1000209,) (1000209, 2)\n",
      "iteration: 9, train RMSE: 0.8639304614843617\n",
      "(1000209, 10) (1000209, 10) (1000209,) (1000209, 2)\n",
      "iteration: 10, train RMSE: 0.8587144681431259\n",
      "(1000209, 10) (1000209, 10) (1000209,) (1000209, 2)\n",
      "iteration: 11, train RMSE: 0.8540828413352601\n",
      "(1000209, 10) (1000209, 10) (1000209,) (1000209, 2)\n",
      "iteration: 12, train RMSE: 0.8499179039877619\n",
      "(1000209, 10) (1000209, 10) (1000209,) (1000209, 2)\n",
      "iteration: 13, train RMSE: 0.8461300593923369\n",
      "(1000209, 10) (1000209, 10) (1000209,) (1000209, 2)\n",
      "iteration: 14, train RMSE: 0.8426937297732665\n",
      "(1000209, 10) (1000209, 10) (1000209,) (1000209, 2)\n",
      "iteration: 15, train RMSE: 0.8395221892280691\n",
      "(1000209, 10) (1000209, 10) (1000209,) (1000209, 2)\n",
      "iteration: 16, train RMSE: 0.8366157321908404\n",
      "(1000209, 10) (1000209, 10) (1000209,) (1000209, 2)\n",
      "iteration: 17, train RMSE: 0.83390228261436\n",
      "(1000209, 10) (1000209, 10) (1000209,) (1000209, 2)\n",
      "iteration: 18, train RMSE: 0.8313760330215968\n",
      "(1000209, 10) (1000209, 10) (1000209,) (1000209, 2)\n",
      "iteration: 19, train RMSE: 0.8289930247042814\n",
      "(1000209, 10) (1000209, 10) (1000209,) (1000209, 2)\n",
      "iteration: 20, train RMSE: 0.8267572854626092\n"
     ]
    }
   ],
   "source": [
    "bpmf = BPMF(n_user=n_user, n_item=n_item, n_feature=10, max_rating=5., min_rating=1., seed=0).fit(ratings, n_iters=20)"
   ]
  },
  {
   "cell_type": "code",
   "execution_count": 33,
   "metadata": {},
   "outputs": [
    {
     "data": {
      "text/plain": [
       "array([[   0,    0,    3],\n",
       "       [   1,    1,   17],\n",
       "       [   2,    2,   30],\n",
       "       ...,\n",
       "       [9588,  276,   10],\n",
       "       [9644, 2754,    1],\n",
       "       [9645, 1765,    0]])"
      ]
     },
     "execution_count": 33,
     "metadata": {},
     "output_type": "execute_result"
    }
   ],
   "source": [
    "kion_ratings = dataset.interactions.df[['user_id', 'item_id', 'weight']].to_numpy().astype(int)\n",
    "kion_ratings"
   ]
  },
  {
   "cell_type": "code",
   "execution_count": 42,
   "metadata": {},
   "outputs": [
    {
     "data": {
      "text/plain": [
       "((9646,), (3273,), (101,))"
      ]
     },
     "execution_count": 42,
     "metadata": {},
     "output_type": "execute_result"
    }
   ],
   "source": [
    "np.unique(kion_ratings[:, 0]).shape, np.unique(kion_ratings[:, 1]).shape, np.unique(kion_ratings[:, 2]).shape"
   ]
  },
  {
   "cell_type": "code",
   "execution_count": 62,
   "metadata": {},
   "outputs": [
    {
     "name": "stdout",
     "output_type": "stream",
     "text": [
      "(24243, 10) (24243, 10) (24243,) (24243, 2)\n",
      "iteration: 1, train RMSE: 32.63250719505038\n",
      "(24243, 10) (24243, 10) (24243,) (24243, 2)\n",
      "iteration: 2, train RMSE: 20.975747831859152\n",
      "(24243, 10) (24243, 10) (24243,) (24243, 2)\n",
      "iteration: 3, train RMSE: 15.357583880254976\n",
      "(24243, 10) (24243, 10) (24243,) (24243, 2)\n",
      "iteration: 4, train RMSE: 12.221639801814437\n",
      "(24243, 10) (24243, 10) (24243,) (24243, 2)\n",
      "iteration: 5, train RMSE: 10.34485484082636\n",
      "(24243, 10) (24243, 10) (24243,) (24243, 2)\n",
      "iteration: 6, train RMSE: 9.178165858001858\n",
      "(24243, 10) (24243, 10) (24243,) (24243, 2)\n",
      "iteration: 7, train RMSE: 8.4633752372555\n",
      "(24243, 10) (24243, 10) (24243,) (24243, 2)\n",
      "iteration: 8, train RMSE: 8.023760232116691\n",
      "(24243, 10) (24243, 10) (24243,) (24243, 2)\n",
      "iteration: 9, train RMSE: 7.747666811242639\n",
      "(24243, 10) (24243, 10) (24243,) (24243, 2)\n",
      "iteration: 10, train RMSE: 7.629712043685248\n"
     ]
    }
   ],
   "source": [
    "kion_ratings = dataset.interactions.df[['user_id', 'item_id', 'weight']].to_numpy().astype(int)\n",
    "n_user = max(kion_ratings[:, 0]) + 1\n",
    "n_item = max(kion_ratings[:, 1]) + 1\n",
    "bpmf = BPMF(n_user=n_user, n_item=n_item, n_feature=10, max_rating=100., min_rating=0., seed=0).fit(kion_ratings, n_iters=10)"
   ]
  },
  {
   "cell_type": "code",
   "execution_count": 55,
   "metadata": {},
   "outputs": [
    {
     "name": "stdout",
     "output_type": "stream",
     "text": [
      "(24243, 10) (24243, 10) (24243,) (24243, 2)\n"
     ]
    },
    {
     "data": {
      "text/plain": [
       "7.625581308596736"
      ]
     },
     "execution_count": 55,
     "metadata": {},
     "output_type": "execute_result"
    }
   ],
   "source": [
    "RMSE(bpmf.predict(kion_ratings[:, :2]), kion_ratings[:,2]) # training RMSE"
   ]
  },
  {
   "cell_type": "code",
   "execution_count": 59,
   "metadata": {},
   "outputs": [
    {
     "name": "stdout",
     "output_type": "stream",
     "text": [
      "(24243, 10) (24243, 10) (24243,) (24243, 2)\n"
     ]
    },
    {
     "data": {
      "text/plain": [
       "array([ 8.1627113 , 18.44254716, 32.74093042, 86.19943576,  7.25972983,\n",
       "       89.46149666, 89.6983256 , 37.90343859, 17.47755879, 25.67149176,\n",
       "        7.70263262, 90.06613117, 13.16330857, 49.6737068 , 35.07603562,\n",
       "       25.26593527,  5.17373971, 33.56588475, 76.18014388, 53.10185993])"
      ]
     },
     "execution_count": 59,
     "metadata": {},
     "output_type": "execute_result"
    }
   ],
   "source": [
    "bpmf.predict(kion_ratings[:, :2])[:20]"
   ]
  },
  {
   "cell_type": "code",
   "execution_count": 65,
   "metadata": {},
   "outputs": [
    {
     "name": "stdout",
     "output_type": "stream",
     "text": [
      "(11867, 10) (11867, 10) (11867,) (11867, 2)\n"
     ]
    },
    {
     "data": {
      "text/plain": [
       "47.23884719859566"
      ]
     },
     "execution_count": 65,
     "metadata": {},
     "output_type": "execute_result"
    }
   ],
   "source": [
    "kion_ratings_test = dataset_test.interactions.df[['user_id', 'item_id', 'weight']].to_numpy().astype(int)\n",
    "RMSE(bpmf.predict(kion_ratings_test[:, :2]), kion_ratings_test[:,2]) # training RMSE"
   ]
  },
  {
   "cell_type": "code",
   "execution_count": 68,
   "metadata": {},
   "outputs": [
    {
     "name": "stdout",
     "output_type": "stream",
     "text": [
      "(24243, 32) (24243, 32) (24243,) (24243, 2)\n",
      "iteration: 1, train RMSE: 30.123126453293036\n",
      "(24243, 32) (24243, 32) (24243,) (24243, 2)\n",
      "iteration: 2, train RMSE: 17.97586596440486\n",
      "(24243, 32) (24243, 32) (24243,) (24243, 2)\n",
      "iteration: 3, train RMSE: 13.169586552343437\n",
      "(24243, 32) (24243, 32) (24243,) (24243, 2)\n",
      "iteration: 4, train RMSE: 10.653286717293003\n",
      "(24243, 32) (24243, 32) (24243,) (24243, 2)\n",
      "iteration: 5, train RMSE: 9.148897878318794\n",
      "(24243, 32) (24243, 32) (24243,) (24243, 2)\n",
      "iteration: 6, train RMSE: 8.242441931561814\n",
      "(24243, 32) (24243, 32) (24243,) (24243, 2)\n",
      "iteration: 7, train RMSE: 7.666150301064121\n",
      "(24243, 32) (24243, 32) (24243,) (24243, 2)\n",
      "iteration: 8, train RMSE: 7.306725300753424\n",
      "(24243, 32) (24243, 32) (24243,) (24243, 2)\n",
      "iteration: 9, train RMSE: 7.106492720880164\n",
      "(24243, 32) (24243, 32) (24243,) (24243, 2)\n",
      "iteration: 10, train RMSE: 7.029276900838015\n"
     ]
    }
   ],
   "source": [
    "kion_ratings = dataset.interactions.df[['user_id', 'item_id', 'weight']].to_numpy().astype(int)\n",
    "n_user = max(kion_ratings[:, 0]) + 1\n",
    "n_item = max(kion_ratings[:, 1]) + 1\n",
    "bpmf = BPMF(n_user=n_user, n_item=n_item, n_feature=32, max_rating=100., min_rating=0., seed=0).fit(kion_ratings, n_iters=10)"
   ]
  },
  {
   "cell_type": "code",
   "execution_count": 71,
   "metadata": {},
   "outputs": [
    {
     "name": "stdout",
     "output_type": "stream",
     "text": [
      "(11867, 32) (11867, 32) (11867,) (11867, 2)\n"
     ]
    },
    {
     "data": {
      "text/plain": [
       "46.87901302973116"
      ]
     },
     "execution_count": 71,
     "metadata": {},
     "output_type": "execute_result"
    }
   ],
   "source": [
    "kion_ratings_test = dataset_test.interactions.df[['user_id', 'item_id', 'weight']].to_numpy().astype(int)\n",
    "RMSE(bpmf.predict(kion_ratings_test[:, :2]), kion_ratings_test[:,2]) # training RMSE"
   ]
  },
  {
   "cell_type": "code",
   "execution_count": 72,
   "metadata": {},
   "outputs": [
    {
     "name": "stdout",
     "output_type": "stream",
     "text": [
      "(24243, 32) (24243, 32) (24243,) (24243, 2)\n",
      "iteration: 1, train RMSE: 30.123126453293036\n",
      "(24243, 32) (24243, 32) (24243,) (24243, 2)\n",
      "iteration: 2, train RMSE: 17.97586596440486\n",
      "(24243, 32) (24243, 32) (24243,) (24243, 2)\n",
      "iteration: 3, train RMSE: 13.169586552343437\n",
      "(24243, 32) (24243, 32) (24243,) (24243, 2)\n",
      "iteration: 4, train RMSE: 10.653286717293003\n",
      "(24243, 32) (24243, 32) (24243,) (24243, 2)\n",
      "iteration: 5, train RMSE: 9.148897878318794\n",
      "(24243, 32) (24243, 32) (24243,) (24243, 2)\n",
      "iteration: 6, train RMSE: 8.242441931561814\n",
      "(24243, 32) (24243, 32) (24243,) (24243, 2)\n",
      "iteration: 7, train RMSE: 7.666150301064121\n",
      "(24243, 32) (24243, 32) (24243,) (24243, 2)\n",
      "iteration: 8, train RMSE: 7.306725300753424\n",
      "(24243, 32) (24243, 32) (24243,) (24243, 2)\n",
      "iteration: 9, train RMSE: 7.106492720880164\n",
      "(24243, 32) (24243, 32) (24243,) (24243, 2)\n",
      "iteration: 10, train RMSE: 7.029276900838015\n",
      "(24243, 32) (24243, 32) (24243,) (24243, 2)\n",
      "iteration: 11, train RMSE: 7.032273407675694\n",
      "(24243, 32) (24243, 32) (24243,) (24243, 2)\n",
      "iteration: 12, train RMSE: 7.090118401502293\n",
      "(24243, 32) (24243, 32) (24243,) (24243, 2)\n",
      "iteration: 13, train RMSE: 7.190221485222219\n",
      "(24243, 32) (24243, 32) (24243,) (24243, 2)\n",
      "iteration: 14, train RMSE: 7.299814377714616\n",
      "(24243, 32) (24243, 32) (24243,) (24243, 2)\n",
      "iteration: 15, train RMSE: 7.440748012980613\n",
      "(24243, 32) (24243, 32) (24243,) (24243, 2)\n",
      "iteration: 16, train RMSE: 7.5814110033283\n",
      "(24243, 32) (24243, 32) (24243,) (24243, 2)\n",
      "iteration: 17, train RMSE: 7.745426685568494\n",
      "(24243, 32) (24243, 32) (24243,) (24243, 2)\n",
      "iteration: 18, train RMSE: 7.905898646910682\n",
      "(24243, 32) (24243, 32) (24243,) (24243, 2)\n",
      "iteration: 19, train RMSE: 8.055193875755412\n",
      "(24243, 32) (24243, 32) (24243,) (24243, 2)\n",
      "iteration: 20, train RMSE: 8.2058613482911\n"
     ]
    }
   ],
   "source": [
    "kion_ratings = dataset.interactions.df[['user_id', 'item_id', 'weight']].to_numpy().astype(int)\n",
    "n_user = max(kion_ratings[:, 0]) + 1\n",
    "n_item = max(kion_ratings[:, 1]) + 1\n",
    "bpmf = BPMF(n_user=n_user, n_item=n_item, n_feature=32, max_rating=100., min_rating=0., seed=0).fit(kion_ratings, n_iters=20)"
   ]
  },
  {
   "cell_type": "code",
   "execution_count": 73,
   "metadata": {},
   "outputs": [
    {
     "name": "stdout",
     "output_type": "stream",
     "text": [
      "(11867, 32) (11867, 32) (11867,) (11867, 2)\n"
     ]
    },
    {
     "data": {
      "text/plain": [
       "45.33802107445017"
      ]
     },
     "execution_count": 73,
     "metadata": {},
     "output_type": "execute_result"
    }
   ],
   "source": [
    "kion_ratings_test = dataset_test.interactions.df[['user_id', 'item_id', 'weight']].to_numpy().astype(int)\n",
    "RMSE(bpmf.predict(kion_ratings_test[:, :2]), kion_ratings_test[:,2]) # training RMSE"
   ]
  },
  {
   "cell_type": "code",
   "execution_count": 75,
   "metadata": {},
   "outputs": [
    {
     "name": "stdout",
     "output_type": "stream",
     "text": [
      "(24243, 64) (24243, 64) (24243,) (24243, 2)\n",
      "iteration: 1, train RMSE: 27.60106458260074\n",
      "(24243, 64) (24243, 64) (24243,) (24243, 2)\n",
      "iteration: 2, train RMSE: 15.984603266682587\n",
      "(24243, 64) (24243, 64) (24243,) (24243, 2)\n",
      "iteration: 3, train RMSE: 11.96453052075426\n",
      "(24243, 64) (24243, 64) (24243,) (24243, 2)\n",
      "iteration: 4, train RMSE: 9.869945943313738\n",
      "(24243, 64) (24243, 64) (24243,) (24243, 2)\n",
      "iteration: 5, train RMSE: 8.623584892273804\n",
      "(24243, 64) (24243, 64) (24243,) (24243, 2)\n",
      "iteration: 6, train RMSE: 7.836578323814771\n",
      "(24243, 64) (24243, 64) (24243,) (24243, 2)\n",
      "iteration: 7, train RMSE: 7.37300450477254\n",
      "(24243, 64) (24243, 64) (24243,) (24243, 2)\n",
      "iteration: 8, train RMSE: 7.096270167179779\n",
      "(24243, 64) (24243, 64) (24243,) (24243, 2)\n",
      "iteration: 9, train RMSE: 6.973152636827912\n",
      "(24243, 64) (24243, 64) (24243,) (24243, 2)\n",
      "iteration: 10, train RMSE: 6.943520494121912\n",
      "(24243, 64) (24243, 64) (24243,) (24243, 2)\n",
      "iteration: 11, train RMSE: 6.965285404269107\n",
      "(24243, 64) (24243, 64) (24243,) (24243, 2)\n",
      "iteration: 12, train RMSE: 7.023554248342919\n",
      "(24243, 64) (24243, 64) (24243,) (24243, 2)\n",
      "iteration: 13, train RMSE: 7.104923246720146\n",
      "(24243, 64) (24243, 64) (24243,) (24243, 2)\n",
      "iteration: 14, train RMSE: 7.224430298867185\n",
      "(24243, 64) (24243, 64) (24243,) (24243, 2)\n",
      "iteration: 15, train RMSE: 7.360497810371775\n",
      "(24243, 64) (24243, 64) (24243,) (24243, 2)\n",
      "iteration: 16, train RMSE: 7.5011599812484215\n",
      "(24243, 64) (24243, 64) (24243,) (24243, 2)\n",
      "iteration: 17, train RMSE: 7.648979189460595\n",
      "(24243, 64) (24243, 64) (24243,) (24243, 2)\n",
      "iteration: 18, train RMSE: 7.793417302262877\n",
      "(24243, 64) (24243, 64) (24243,) (24243, 2)\n",
      "iteration: 19, train RMSE: 7.938942135442781\n",
      "(24243, 64) (24243, 64) (24243,) (24243, 2)\n",
      "iteration: 20, train RMSE: 8.098205589604003\n"
     ]
    }
   ],
   "source": [
    "kion_ratings = dataset.interactions.df[['user_id', 'item_id', 'weight']].to_numpy().astype(int)\n",
    "n_user = max(kion_ratings[:, 0]) + 1\n",
    "n_item = max(kion_ratings[:, 1]) + 1\n",
    "bpmf = BPMF(n_user=n_user, n_item=n_item, n_feature=64, max_rating=100., min_rating=0., seed=0).fit(kion_ratings, n_iters=20)"
   ]
  },
  {
   "cell_type": "code",
   "execution_count": 76,
   "metadata": {},
   "outputs": [
    {
     "name": "stdout",
     "output_type": "stream",
     "text": [
      "(11867, 64) (11867, 64) (11867,) (11867, 2)\n"
     ]
    },
    {
     "data": {
      "text/plain": [
       "45.68262955949575"
      ]
     },
     "execution_count": 76,
     "metadata": {},
     "output_type": "execute_result"
    }
   ],
   "source": [
    "kion_ratings_test = dataset_test.interactions.df[['user_id', 'item_id', 'weight']].to_numpy().astype(int)\n",
    "RMSE(bpmf.predict(kion_ratings_test[:, :2]), kion_ratings_test[:,2]) # training RMSE"
   ]
  },
  {
   "cell_type": "code",
   "execution_count": 77,
   "metadata": {},
   "outputs": [
    {
     "name": "stdout",
     "output_type": "stream",
     "text": [
      "(24243, 64) (24243, 64) (24243,) (24243, 2)\n",
      "iteration: 1, train RMSE: 27.60106458260074\n",
      "(24243, 64) (24243, 64) (24243,) (24243, 2)\n",
      "iteration: 2, train RMSE: 15.984603266682587\n",
      "(24243, 64) (24243, 64) (24243,) (24243, 2)\n",
      "iteration: 3, train RMSE: 11.96453052075426\n",
      "(24243, 64) (24243, 64) (24243,) (24243, 2)\n",
      "iteration: 4, train RMSE: 9.869945943313738\n",
      "(24243, 64) (24243, 64) (24243,) (24243, 2)\n",
      "iteration: 5, train RMSE: 8.623584892273804\n",
      "(24243, 64) (24243, 64) (24243,) (24243, 2)\n",
      "iteration: 6, train RMSE: 7.836578323814771\n",
      "(24243, 64) (24243, 64) (24243,) (24243, 2)\n",
      "iteration: 7, train RMSE: 7.37300450477254\n",
      "(24243, 64) (24243, 64) (24243,) (24243, 2)\n",
      "iteration: 8, train RMSE: 7.096270167179779\n",
      "(24243, 64) (24243, 64) (24243,) (24243, 2)\n",
      "iteration: 9, train RMSE: 6.973152636827912\n",
      "(24243, 64) (24243, 64) (24243,) (24243, 2)\n",
      "iteration: 10, train RMSE: 6.943520494121912\n",
      "(24243, 64) (24243, 64) (24243,) (24243, 2)\n",
      "iteration: 11, train RMSE: 6.965285404269107\n",
      "(24243, 64) (24243, 64) (24243,) (24243, 2)\n",
      "iteration: 12, train RMSE: 7.023554248342919\n",
      "(24243, 64) (24243, 64) (24243,) (24243, 2)\n",
      "iteration: 13, train RMSE: 7.104923246720146\n",
      "(24243, 64) (24243, 64) (24243,) (24243, 2)\n",
      "iteration: 14, train RMSE: 7.224430298867185\n",
      "(24243, 64) (24243, 64) (24243,) (24243, 2)\n",
      "iteration: 15, train RMSE: 7.360497810371775\n",
      "(24243, 64) (24243, 64) (24243,) (24243, 2)\n",
      "iteration: 16, train RMSE: 7.5011599812484215\n",
      "(24243, 64) (24243, 64) (24243,) (24243, 2)\n",
      "iteration: 17, train RMSE: 7.648979189460595\n",
      "(24243, 64) (24243, 64) (24243,) (24243, 2)\n",
      "iteration: 18, train RMSE: 7.793417302262877\n",
      "(24243, 64) (24243, 64) (24243,) (24243, 2)\n",
      "iteration: 19, train RMSE: 7.938942135442781\n",
      "(24243, 64) (24243, 64) (24243,) (24243, 2)\n",
      "iteration: 20, train RMSE: 8.098205589604003\n",
      "(24243, 64) (24243, 64) (24243,) (24243, 2)\n",
      "iteration: 21, train RMSE: 8.249512388055876\n",
      "(24243, 64) (24243, 64) (24243,) (24243, 2)\n",
      "iteration: 22, train RMSE: 8.38093320197971\n",
      "(24243, 64) (24243, 64) (24243,) (24243, 2)\n",
      "iteration: 23, train RMSE: 8.501071334214442\n",
      "(24243, 64) (24243, 64) (24243,) (24243, 2)\n",
      "iteration: 24, train RMSE: 8.631603308267824\n",
      "(24243, 64) (24243, 64) (24243,) (24243, 2)\n",
      "iteration: 25, train RMSE: 8.759998708550384\n",
      "(24243, 64) (24243, 64) (24243,) (24243, 2)\n",
      "iteration: 26, train RMSE: 8.882788842653856\n",
      "(24243, 64) (24243, 64) (24243,) (24243, 2)\n",
      "iteration: 27, train RMSE: 9.008099890540446\n",
      "(24243, 64) (24243, 64) (24243,) (24243, 2)\n",
      "iteration: 28, train RMSE: 9.122965857359102\n",
      "(24243, 64) (24243, 64) (24243,) (24243, 2)\n",
      "iteration: 29, train RMSE: 9.242224906432742\n",
      "(24243, 64) (24243, 64) (24243,) (24243, 2)\n",
      "iteration: 30, train RMSE: 9.365533957660459\n",
      "(24243, 64) (24243, 64) (24243,) (24243, 2)\n",
      "iteration: 31, train RMSE: 9.476864927381541\n",
      "(24243, 64) (24243, 64) (24243,) (24243, 2)\n",
      "iteration: 32, train RMSE: 9.580196687808884\n",
      "(24243, 64) (24243, 64) (24243,) (24243, 2)\n",
      "iteration: 33, train RMSE: 9.683748067103675\n",
      "(24243, 64) (24243, 64) (24243,) (24243, 2)\n",
      "iteration: 34, train RMSE: 9.779101744001448\n",
      "(24243, 64) (24243, 64) (24243,) (24243, 2)\n",
      "iteration: 35, train RMSE: 9.874085814012817\n",
      "(24243, 64) (24243, 64) (24243,) (24243, 2)\n",
      "iteration: 36, train RMSE: 9.96319888787933\n",
      "(24243, 64) (24243, 64) (24243,) (24243, 2)\n",
      "iteration: 37, train RMSE: 10.048891636007905\n",
      "(24243, 64) (24243, 64) (24243,) (24243, 2)\n",
      "iteration: 38, train RMSE: 10.132667574707959\n",
      "(24243, 64) (24243, 64) (24243,) (24243, 2)\n",
      "iteration: 39, train RMSE: 10.20525835319127\n",
      "(24243, 64) (24243, 64) (24243,) (24243, 2)\n",
      "iteration: 40, train RMSE: 10.281830716787029\n",
      "(24243, 64) (24243, 64) (24243,) (24243, 2)\n",
      "iteration: 41, train RMSE: 10.345295174677835\n",
      "(24243, 64) (24243, 64) (24243,) (24243, 2)\n",
      "iteration: 42, train RMSE: 10.410365961196884\n",
      "(24243, 64) (24243, 64) (24243,) (24243, 2)\n",
      "iteration: 43, train RMSE: 10.471493533771438\n",
      "(24243, 64) (24243, 64) (24243,) (24243, 2)\n",
      "iteration: 44, train RMSE: 10.536545869917305\n",
      "(24243, 64) (24243, 64) (24243,) (24243, 2)\n",
      "iteration: 45, train RMSE: 10.599267119668786\n",
      "(24243, 64) (24243, 64) (24243,) (24243, 2)\n",
      "iteration: 46, train RMSE: 10.659356279496569\n",
      "(24243, 64) (24243, 64) (24243,) (24243, 2)\n",
      "iteration: 47, train RMSE: 10.714792512613748\n",
      "(24243, 64) (24243, 64) (24243,) (24243, 2)\n",
      "iteration: 48, train RMSE: 10.765934532213388\n",
      "(24243, 64) (24243, 64) (24243,) (24243, 2)\n",
      "iteration: 49, train RMSE: 10.812677004921825\n",
      "(24243, 64) (24243, 64) (24243,) (24243, 2)\n",
      "iteration: 50, train RMSE: 10.858350190529597\n",
      "(11867, 64) (11867, 64) (11867,) (11867, 2)\n"
     ]
    },
    {
     "data": {
      "text/plain": [
       "44.48958122516311"
      ]
     },
     "execution_count": 77,
     "metadata": {},
     "output_type": "execute_result"
    }
   ],
   "source": [
    "kion_ratings = dataset.interactions.df[['user_id', 'item_id', 'weight']].to_numpy().astype(int)\n",
    "n_user = max(kion_ratings[:, 0]) + 1\n",
    "n_item = max(kion_ratings[:, 1]) + 1\n",
    "bpmf = BPMF(n_user=n_user, n_item=n_item, n_feature=64, max_rating=100., min_rating=0., seed=0).fit(kion_ratings, n_iters=50)\n",
    "kion_ratings_test = dataset_test.interactions.df[['user_id', 'item_id', 'weight']].to_numpy().astype(int)\n",
    "RMSE(bpmf.predict(kion_ratings_test[:, :2]), kion_ratings_test[:,2]) # training RMSE"
   ]
  },
  {
   "cell_type": "code",
   "execution_count": null,
   "metadata": {},
   "outputs": [],
   "source": []
  },
  {
   "cell_type": "code",
   "execution_count": 4,
   "metadata": {},
   "outputs": [
    {
     "name": "stderr",
     "output_type": "stream",
     "text": [
      "/home/bazilyq/Рабочий стол/work/RecTools/.venv/lib/python3.10/site-packages/tqdm/auto.py:21: TqdmWarning: IProgress not found. Please update jupyter and ipywidgets. See https://ipywidgets.readthedocs.io/en/stable/user_install.html\n",
      "  from .autonotebook import tqdm as notebook_tqdm\n"
     ]
    }
   ],
   "source": [
    "import pandas as pd\n",
    "from rectools import Columns\n",
    "from rectools.model_selection import TimeRangeSplitter\n",
    "from rectools.dataset import Dataset\n",
    "from rectools.models import PopularModel, PureSVDModel\n",
    "from rectools.metrics import Precision, Recall, MeanInvUserFreq, Serendipity, calc_metrics\n",
    "import numpy as np\n",
    "\n",
    "import matplotlib.pyplot as plt\n",
    "from matplotlib.pyplot import figure"
   ]
  },
  {
   "cell_type": "code",
   "execution_count": 5,
   "metadata": {},
   "outputs": [
    {
     "data": {
      "text/plain": [
       "(9646, 3273)"
      ]
     },
     "execution_count": 5,
     "metadata": {},
     "output_type": "execute_result"
    }
   ],
   "source": [
    "np.random.seed(0)\n",
    "DATA_PATH = '../datasets/KION/data/'\n",
    "users_df = pd.read_csv(DATA_PATH + 'users.csv',)\n",
    "items_df = pd.read_csv(DATA_PATH + 'items.csv',)\n",
    "interactions = pd.read_csv(DATA_PATH + 'interactions.csv')\n",
    "\n",
    "# interactions_train = interactions.query(\"last_watch_dt >= '2021-07-15' and last_watch_dt < '2021-08-16'\").copy()\n",
    "interactions_train = interactions.query(\"last_watch_dt >= '2021-08-10' and last_watch_dt < '2021-08-16'\").copy()\n",
    "interactions_test = interactions.query(\"last_watch_dt >= '2021-08-16'\").copy()\n",
    "\n",
    "sample_users = np.random.choice(interactions_train['user_id'].unique(), 10000)\n",
    "interactions_train = interactions_train[interactions_train['user_id'].isin(sample_users)]\n",
    "\n",
    "interactions_test = interactions_test.loc[\n",
    "    interactions_test[\"user_id\"].isin(interactions_train[\"user_id\"])\n",
    "    & interactions_test[\"item_id\"].isin(interactions_train[\"item_id\"])\n",
    "]\n",
    "\n",
    "interactions_train.fillna({\"watched_pct\": 1}, inplace=True)\n",
    "interactions_train['watched_pct'] = interactions_train['watched_pct'].astype(int)\n",
    "\n",
    "dataset = Dataset.construct(\n",
    "    interactions_df=interactions_train\n",
    "    .rename(\n",
    "        columns={\n",
    "            \"user_id\": Columns.User,\n",
    "            \"item_id\": Columns.Item,\n",
    "            \"last_watch_dt\": Columns.Datetime,\n",
    "            \"watched_pct\": Columns.Weight,\n",
    "        }\n",
    "    )\n",
    "    .reindex(columns=Columns.Interactions)\n",
    ")\n",
    "\n",
    "dataset_test = Dataset.construct(\n",
    "    interactions_df=interactions_test\n",
    "    .rename(\n",
    "        columns={\n",
    "            \"user_id\": Columns.User,\n",
    "            \"item_id\": Columns.Item,\n",
    "            \"last_watch_dt\": Columns.Datetime,\n",
    "            \"watched_pct\": Columns.Weight,\n",
    "        }\n",
    "    )\n",
    "    .reindex(columns=Columns.Interactions)\n",
    ")\n",
    "\n",
    "\n",
    "\n",
    "\n",
    "test_users = interactions_test[\"user_id\"].unique()\n",
    "test_users.size\n",
    "\n",
    "user_ext_to_int_map = dataset.user_id_map.to_internal.to_dict()\n",
    "item_int_to_ext_map = dataset.item_id_map.to_external.to_dict()\n",
    "\n",
    "ui_csr = dataset.get_user_item_matrix()\n",
    "ui_csr.shape"
   ]
  },
  {
   "cell_type": "code",
   "execution_count": 6,
   "metadata": {},
   "outputs": [
    {
     "name": "stdout",
     "output_type": "stream",
     "text": [
      "PureSVDModel\n",
      "precision: 0.016442411194833154\n",
      "recall: 0.06239342800454374 \n",
      "\n",
      "(3716,) (112,)\n"
     ]
    }
   ],
   "source": [
    "pure_svd_model = PureSVDModel(verbose=1)\n",
    "pure_svd_model.fit(dataset)\n",
    "\n",
    "recs = pure_svd_model.recommend(users=test_users, dataset=dataset, k=10, filter_viewed=False)\n",
    "\n",
    "precision = Precision(k=10)\n",
    "recall = Recall(k=10)\n",
    "\n",
    "precision_value = precision.calc(reco=recs, interactions=interactions_test)\n",
    "recall_value = recall.calc(reco=recs, interactions=interactions_test)\n",
    "print('PureSVDModel')\n",
    "print(f\"precision: {precision_value}\\nrecall: {recall_value}\", '\\n')\n",
    "print(recs['user_id'].unique().shape, recs['item_id'].unique().shape)"
   ]
  },
  {
   "cell_type": "code",
   "execution_count": 7,
   "metadata": {},
   "outputs": [
    {
     "name": "stdout",
     "output_type": "stream",
     "text": [
      "PureSVDModel\n",
      "precision: 0.01636167922497309\n",
      "recall: 0.061698236041859846 \n",
      "\n",
      "(3716,) (124,)\n"
     ]
    }
   ],
   "source": [
    "pure_svd_model = PureSVDModel(verbose=1)\n",
    "pure_svd_model.fit(dataset)\n",
    "\n",
    "recs = pure_svd_model.recommend(users=test_users, dataset=dataset, k=10, filter_viewed=False)\n",
    "\n",
    "precision = Precision(k=10)\n",
    "recall = Recall(k=10)\n",
    "\n",
    "precision_value = precision.calc(reco=recs.drop(columns=['score']), interactions=interactions_test)\n",
    "recall_value = recall.calc(reco=recs.drop(columns=['score']), interactions=interactions_test)\n",
    "print('PureSVDModel')\n",
    "print(f\"precision: {precision_value}\\nrecall: {recall_value}\", '\\n')\n",
    "print(recs['user_id'].unique().shape, recs['item_id'].unique().shape)"
   ]
  },
  {
   "cell_type": "code",
   "execution_count": 8,
   "metadata": {},
   "outputs": [
    {
     "data": {
      "text/html": [
       "<div>\n",
       "<style scoped>\n",
       "    .dataframe tbody tr th:only-of-type {\n",
       "        vertical-align: middle;\n",
       "    }\n",
       "\n",
       "    .dataframe tbody tr th {\n",
       "        vertical-align: top;\n",
       "    }\n",
       "\n",
       "    .dataframe thead th {\n",
       "        text-align: right;\n",
       "    }\n",
       "</style>\n",
       "<table border=\"1\" class=\"dataframe\">\n",
       "  <thead>\n",
       "    <tr style=\"text-align: right;\">\n",
       "      <th></th>\n",
       "      <th>user_id</th>\n",
       "      <th>item_id</th>\n",
       "      <th>rank</th>\n",
       "    </tr>\n",
       "  </thead>\n",
       "  <tbody>\n",
       "    <tr>\n",
       "      <th>0</th>\n",
       "      <td>449084</td>\n",
       "      <td>7829</td>\n",
       "      <td>1</td>\n",
       "    </tr>\n",
       "    <tr>\n",
       "      <th>1</th>\n",
       "      <td>449084</td>\n",
       "      <td>16166</td>\n",
       "      <td>2</td>\n",
       "    </tr>\n",
       "    <tr>\n",
       "      <th>2</th>\n",
       "      <td>449084</td>\n",
       "      <td>7571</td>\n",
       "      <td>3</td>\n",
       "    </tr>\n",
       "    <tr>\n",
       "      <th>3</th>\n",
       "      <td>449084</td>\n",
       "      <td>5411</td>\n",
       "      <td>4</td>\n",
       "    </tr>\n",
       "    <tr>\n",
       "      <th>4</th>\n",
       "      <td>449084</td>\n",
       "      <td>3182</td>\n",
       "      <td>5</td>\n",
       "    </tr>\n",
       "    <tr>\n",
       "      <th>...</th>\n",
       "      <td>...</td>\n",
       "      <td>...</td>\n",
       "      <td>...</td>\n",
       "    </tr>\n",
       "    <tr>\n",
       "      <th>37155</th>\n",
       "      <td>751961</td>\n",
       "      <td>13464</td>\n",
       "      <td>6</td>\n",
       "    </tr>\n",
       "    <tr>\n",
       "      <th>37156</th>\n",
       "      <td>751961</td>\n",
       "      <td>2722</td>\n",
       "      <td>7</td>\n",
       "    </tr>\n",
       "    <tr>\n",
       "      <th>37157</th>\n",
       "      <td>751961</td>\n",
       "      <td>12192</td>\n",
       "      <td>8</td>\n",
       "    </tr>\n",
       "    <tr>\n",
       "      <th>37158</th>\n",
       "      <td>751961</td>\n",
       "      <td>7033</td>\n",
       "      <td>9</td>\n",
       "    </tr>\n",
       "    <tr>\n",
       "      <th>37159</th>\n",
       "      <td>751961</td>\n",
       "      <td>13582</td>\n",
       "      <td>10</td>\n",
       "    </tr>\n",
       "  </tbody>\n",
       "</table>\n",
       "<p>37160 rows × 3 columns</p>\n",
       "</div>"
      ],
      "text/plain": [
       "       user_id  item_id  rank\n",
       "0       449084     7829     1\n",
       "1       449084    16166     2\n",
       "2       449084     7571     3\n",
       "3       449084     5411     4\n",
       "4       449084     3182     5\n",
       "...        ...      ...   ...\n",
       "37155   751961    13464     6\n",
       "37156   751961     2722     7\n",
       "37157   751961    12192     8\n",
       "37158   751961     7033     9\n",
       "37159   751961    13582    10\n",
       "\n",
       "[37160 rows x 3 columns]"
      ]
     },
     "execution_count": 8,
     "metadata": {},
     "output_type": "execute_result"
    }
   ],
   "source": [
    "recs.drop(columns=['score'])"
   ]
  },
  {
   "cell_type": "code",
   "execution_count": 4,
   "metadata": {},
   "outputs": [
    {
     "data": {
      "text/plain": [
       "(112,)"
      ]
     },
     "execution_count": 4,
     "metadata": {},
     "output_type": "execute_result"
    }
   ],
   "source": [
    "pure_svd_model.recommend(users=test_users, dataset=dataset, k=10, filter_viewed=False)['item_id'].unique().shape"
   ]
  },
  {
   "cell_type": "code",
   "execution_count": 6,
   "metadata": {},
   "outputs": [
    {
     "name": "stdout",
     "output_type": "stream",
     "text": [
      "(24243, 32) (24243, 32) (24243,) (24243, 2)\n",
      "iteration: 1, train RMSE: 30.123126453293036\n",
      "(24243, 32) (24243, 32) (24243,) (24243, 2)\n",
      "iteration: 2, train RMSE: 17.97586596440486\n",
      "(24243, 32) (24243, 32) (24243,) (24243, 2)\n",
      "iteration: 3, train RMSE: 13.169586552343437\n",
      "(24243, 32) (24243, 32) (24243,) (24243, 2)\n",
      "iteration: 4, train RMSE: 10.653286717293003\n",
      "(24243, 32) (24243, 32) (24243,) (24243, 2)\n",
      "iteration: 5, train RMSE: 9.148897878318794\n",
      "(24243, 32) (24243, 32) (24243,) (24243, 2)\n",
      "iteration: 6, train RMSE: 8.242441931561814\n",
      "(24243, 32) (24243, 32) (24243,) (24243, 2)\n",
      "iteration: 7, train RMSE: 7.666150301064121\n",
      "(24243, 32) (24243, 32) (24243,) (24243, 2)\n",
      "iteration: 8, train RMSE: 7.306725300753424\n",
      "(24243, 32) (24243, 32) (24243,) (24243, 2)\n",
      "iteration: 9, train RMSE: 7.106492720880164\n",
      "(24243, 32) (24243, 32) (24243,) (24243, 2)\n",
      "iteration: 10, train RMSE: 7.029276900838015\n",
      "precision: 0.0036867599569429493\n",
      "recall: 0.014185596631462799\n",
      "(3716,) (556,)\n"
     ]
    }
   ],
   "source": [
    "# подменил фичи\n",
    "from rectools.models import BayesProbMF_V4\n",
    "\n",
    "bpmf_model = BayesProbMF_V4(verbose=1, n_iters=10, n_feature=32, max_rating=100., min_rating=0., beta=2., beta_user=2., beta_item=2)\n",
    "bpmf_model.fit(dataset)\n",
    "\n",
    "recs = bpmf_model.recommend(users=test_users, dataset=dataset, k=10, filter_viewed=False)\n",
    "\n",
    "precision = Precision(k=10)\n",
    "recall = Recall(k=10)\n",
    "\n",
    "precision_value = precision.calc(reco=recs, interactions=interactions_test)\n",
    "recall_value = recall.calc(reco=recs, interactions=interactions_test)\n",
    "print(f\"precision: {precision_value}\\nrecall: {recall_value}\")\n",
    "print(recs['user_id'].unique().shape, recs['item_id'].unique().shape)"
   ]
  },
  {
   "cell_type": "code",
   "execution_count": 7,
   "metadata": {},
   "outputs": [
    {
     "name": "stdout",
     "output_type": "stream",
     "text": [
      "(24243, 64) (24243, 64) (24243,) (24243, 2)\n",
      "iteration: 1, train RMSE: 27.60106458260074\n",
      "(24243, 64) (24243, 64) (24243,) (24243, 2)\n",
      "iteration: 2, train RMSE: 15.984603266682587\n",
      "(24243, 64) (24243, 64) (24243,) (24243, 2)\n",
      "iteration: 3, train RMSE: 11.96453052075426\n",
      "(24243, 64) (24243, 64) (24243,) (24243, 2)\n",
      "iteration: 4, train RMSE: 9.869945943313738\n",
      "(24243, 64) (24243, 64) (24243,) (24243, 2)\n",
      "iteration: 5, train RMSE: 8.623584892273804\n",
      "(24243, 64) (24243, 64) (24243,) (24243, 2)\n",
      "iteration: 6, train RMSE: 7.836578323814771\n",
      "(24243, 64) (24243, 64) (24243,) (24243, 2)\n",
      "iteration: 7, train RMSE: 7.37300450477254\n",
      "(24243, 64) (24243, 64) (24243,) (24243, 2)\n",
      "iteration: 8, train RMSE: 7.096270167179779\n",
      "(24243, 64) (24243, 64) (24243,) (24243, 2)\n",
      "iteration: 9, train RMSE: 6.973152636827912\n",
      "(24243, 64) (24243, 64) (24243,) (24243, 2)\n",
      "iteration: 10, train RMSE: 6.943520494121912\n",
      "precision: 0.0034714747039827775\n",
      "recall: 0.012275816224569214\n",
      "(3716,) (660,)\n"
     ]
    }
   ],
   "source": [
    "# подменил фичи\n",
    "from rectools.models import BayesProbMF_V4\n",
    "\n",
    "bpmf_model = BayesProbMF_V4(verbose=1, n_iters=10, n_feature=64, max_rating=100., min_rating=0., beta=2., beta_user=2., beta_item=2)\n",
    "bpmf_model.fit(dataset)\n",
    "\n",
    "recs = bpmf_model.recommend(users=test_users, dataset=dataset, k=10, filter_viewed=False)\n",
    "\n",
    "precision = Precision(k=10)\n",
    "recall = Recall(k=10)\n",
    "\n",
    "precision_value = precision.calc(reco=recs, interactions=interactions_test)\n",
    "recall_value = recall.calc(reco=recs, interactions=interactions_test)\n",
    "print(f\"precision: {precision_value}\\nrecall: {recall_value}\")\n",
    "print(recs['user_id'].unique().shape, recs['item_id'].unique().shape)"
   ]
  },
  {
   "cell_type": "code",
   "execution_count": 9,
   "metadata": {},
   "outputs": [
    {
     "name": "stdout",
     "output_type": "stream",
     "text": [
      "(24243, 128) (24243, 128) (24243,) (24243, 2)\n",
      "iteration: 1, train RMSE: 24.812483624184797\n",
      "(24243, 128) (24243, 128) (24243,) (24243, 2)\n",
      "iteration: 2, train RMSE: 14.135072634643729\n",
      "(24243, 128) (24243, 128) (24243,) (24243, 2)\n",
      "iteration: 3, train RMSE: 10.913583677490518\n",
      "(24243, 128) (24243, 128) (24243,) (24243, 2)\n",
      "iteration: 4, train RMSE: 9.238507419115583\n",
      "(24243, 128) (24243, 128) (24243,) (24243, 2)\n",
      "iteration: 5, train RMSE: 8.240351911275535\n",
      "(24243, 128) (24243, 128) (24243,) (24243, 2)\n",
      "iteration: 6, train RMSE: 7.617942390982407\n",
      "(24243, 128) (24243, 128) (24243,) (24243, 2)\n",
      "iteration: 7, train RMSE: 7.244581942116586\n",
      "(24243, 128) (24243, 128) (24243,) (24243, 2)\n",
      "iteration: 8, train RMSE: 7.057713343206612\n",
      "(24243, 128) (24243, 128) (24243,) (24243, 2)\n",
      "iteration: 9, train RMSE: 6.964533825842821\n",
      "(24243, 128) (24243, 128) (24243,) (24243, 2)\n",
      "iteration: 10, train RMSE: 6.967315644214762\n",
      "precision: 0.002179763186221744\n",
      "recall: 0.009235758142843584\n",
      "(3716,) (730,)\n"
     ]
    }
   ],
   "source": [
    "# подменил фичи\n",
    "from rectools.models import BayesProbMF_V4\n",
    "\n",
    "bpmf_model = BayesProbMF_V4(verbose=1, n_iters=10, n_feature=128, max_rating=100., min_rating=0., beta=2., beta_user=2., beta_item=2)\n",
    "bpmf_model.fit(dataset)\n",
    "\n",
    "recs = bpmf_model.recommend(users=test_users, dataset=dataset, k=10, filter_viewed=False)\n",
    "\n",
    "precision = Precision(k=10)\n",
    "recall = Recall(k=10)\n",
    "\n",
    "precision_value = precision.calc(reco=recs, interactions=interactions_test)\n",
    "recall_value = recall.calc(reco=recs, interactions=interactions_test)\n",
    "print(f\"precision: {precision_value}\\nrecall: {recall_value}\")\n",
    "print(recs['user_id'].unique().shape, recs['item_id'].unique().shape)"
   ]
  },
  {
   "cell_type": "code",
   "execution_count": null,
   "metadata": {},
   "outputs": [
    {
     "name": "stdout",
     "output_type": "stream",
     "text": [
      "iteration: 1, train RMSE: 32.63250719505038\n",
      "iteration: 2, train RMSE: 20.975747831859152\n",
      "iteration: 3, train RMSE: 15.357583880254976\n",
      "iteration: 4, train RMSE: 12.221639801814437\n",
      "iteration: 5, train RMSE: 10.34485484082636\n",
      "iteration: 6, train RMSE: 9.178165858001858\n",
      "iteration: 7, train RMSE: 8.4633752372555\n",
      "iteration: 8, train RMSE: 8.023760232116691\n",
      "iteration: 9, train RMSE: 7.747666811242639\n",
      "iteration: 10, train RMSE: 7.629712043685248\n",
      "precision: 0.006162540365984931\n",
      "recall: 0.02340977670192231\n",
      "(3716,) (408,)\n"
     ]
    }
   ],
   "source": [
    "# подменил фичи\n",
    "from rectools.models import BayesProbMF_V4\n",
    "\n",
    "bpmf_model = BayesProbMF_V4(verbose=1, n_iters=10, n_feature=10, max_rating=100., min_rating=0., beta=2., beta_user=2., beta_item=2)\n",
    "bpmf_model.fit(dataset)\n",
    "\n",
    "recs = bpmf_model.recommend(users=test_users, dataset=dataset, k=10, filter_viewed=False)\n",
    "\n",
    "precision = Precision(k=10)\n",
    "recall = Recall(k=10)\n",
    "\n",
    "precision_value = precision.calc(reco=recs, interactions=interactions_test)\n",
    "recall_value = recall.calc(reco=recs, interactions=interactions_test)\n",
    "print(f\"precision: {precision_value}\\nrecall: {recall_value}\")\n",
    "print(recs['user_id'].unique().shape, recs['item_id'].unique().shape)"
   ]
  },
  {
   "cell_type": "code",
   "execution_count": null,
   "metadata": {},
   "outputs": [
    {
     "name": "stdout",
     "output_type": "stream",
     "text": [
      "######## iteration 0\n",
      "iteration: 1, train RMSE: 32.63250719505038\n",
      "######## iteration 1\n",
      "iteration: 2, train RMSE: 20.975747831859152\n",
      "######## iteration 2\n",
      "iteration: 3, train RMSE: 15.357583880254976\n",
      "######## iteration 3\n",
      "iteration: 4, train RMSE: 12.221639801814437\n",
      "######## iteration 4\n",
      "iteration: 5, train RMSE: 10.34485484082636\n",
      "######## iteration 5\n",
      "iteration: 6, train RMSE: 9.178165858001858\n",
      "######## iteration 6\n",
      "iteration: 7, train RMSE: 8.4633752372555\n",
      "######## iteration 7\n",
      "iteration: 8, train RMSE: 8.023760232116691\n",
      "######## iteration 8\n",
      "iteration: 9, train RMSE: 7.747666811242639\n",
      "######## iteration 9\n",
      "iteration: 10, train RMSE: 7.629712043685248\n",
      "precision: 0.004790096878363832\n",
      "recall: 0.018530246610991296\n",
      "(3716,) (1262,)\n"
     ]
    }
   ],
   "source": [
    "from rectools.models import BayesProbMF_V4\n",
    "\n",
    "bpmf_model = BayesProbMF_V4(verbose=1, n_iters=10, n_feature=10, max_rating=100., min_rating=0., beta=2., beta_user=2., beta_item=2)\n",
    "bpmf_model.fit(dataset)\n",
    "\n",
    "recs = bpmf_model.recommend(users=test_users, dataset=dataset, k=10, filter_viewed=False)\n",
    "\n",
    "precision = Precision(k=10)\n",
    "recall = Recall(k=10)\n",
    "\n",
    "precision_value = precision.calc(reco=recs, interactions=interactions_test)\n",
    "recall_value = recall.calc(reco=recs, interactions=interactions_test)\n",
    "print(f\"precision: {precision_value}\\nrecall: {recall_value}\")\n",
    "print(recs['user_id'].unique().shape, recs['item_id'].unique().shape)"
   ]
  },
  {
   "cell_type": "code",
   "execution_count": 6,
   "metadata": {},
   "outputs": [
    {
     "name": "stdout",
     "output_type": "stream",
     "text": [
      "######## iteration 0\n",
      "iteration: 1, train RMSE: 33.82637654011173\n",
      "######## iteration 1\n",
      "iteration: 2, train RMSE: 23.46454297017828\n",
      "######## iteration 2\n",
      "iteration: 3, train RMSE: 18.00581609280395\n",
      "######## iteration 3\n",
      "iteration: 4, train RMSE: 14.89171318309362\n",
      "######## iteration 4\n",
      "iteration: 5, train RMSE: 13.000923791706152\n",
      "######## iteration 5\n",
      "iteration: 6, train RMSE: 11.75601240262289\n",
      "######## iteration 6\n",
      "iteration: 7, train RMSE: 10.895281175883227\n",
      "######## iteration 7\n",
      "iteration: 8, train RMSE: 10.279156340682057\n",
      "######## iteration 8\n",
      "iteration: 9, train RMSE: 9.80905767929548\n",
      "######## iteration 9\n",
      "iteration: 10, train RMSE: 9.467672387631339\n",
      "precision: 0.002125941872981701\n",
      "recall: 0.008192986831465904\n",
      "(3716,) (342,)\n"
     ]
    }
   ],
   "source": [
    "from rectools.models import BayesProbMF_V4\n",
    "\n",
    "bpmf_model = BayesProbMF_V4(verbose=1, n_iters=10, n_feature=5, max_rating=100., min_rating=0., beta=2., beta_user=2., beta_item=2)\n",
    "bpmf_model.fit(dataset)\n",
    "\n",
    "recs = bpmf_model.recommend(users=test_users, dataset=dataset, k=10, filter_viewed=False)\n",
    "\n",
    "precision = Precision(k=10)\n",
    "recall = Recall(k=10)\n",
    "\n",
    "precision_value = precision.calc(reco=recs, interactions=interactions_test)\n",
    "recall_value = recall.calc(reco=recs, interactions=interactions_test)\n",
    "print(f\"precision: {precision_value}\\nrecall: {recall_value}\")\n",
    "print(recs['user_id'].unique().shape, recs['item_id'].unique().shape)"
   ]
  },
  {
   "cell_type": "code",
   "execution_count": 8,
   "metadata": {},
   "outputs": [
    {
     "name": "stdout",
     "output_type": "stream",
     "text": [
      "######## iteration 0\n",
      "iteration: 1, train RMSE: 32.90258440762526\n",
      "######## iteration 1\n",
      "iteration: 2, train RMSE: 21.28514581163706\n",
      "######## iteration 2\n",
      "iteration: 3, train RMSE: 15.613833998351486\n",
      "######## iteration 3\n",
      "iteration: 4, train RMSE: 12.44185656985114\n",
      "######## iteration 4\n",
      "iteration: 5, train RMSE: 10.534089714986642\n",
      "######## iteration 5\n",
      "iteration: 6, train RMSE: 9.35042629894733\n",
      "######## iteration 6\n",
      "iteration: 7, train RMSE: 8.613757706028256\n",
      "######## iteration 7\n",
      "iteration: 8, train RMSE: 8.145859644131482\n",
      "######## iteration 8\n",
      "iteration: 9, train RMSE: 7.861505102877246\n",
      "######## iteration 9\n",
      "iteration: 10, train RMSE: 7.722661853743325\n",
      "precision: 0.004278794402583423\n",
      "recall: 0.015959111198209038\n",
      "(3716,) (1167,)\n"
     ]
    }
   ],
   "source": [
    "from rectools.models import BayesProbMF_V4\n",
    "\n",
    "bpmf_model = BayesProbMF_V4(verbose=1, n_iters=10, n_feature=9, max_rating=100., min_rating=0., beta=2., beta_user=2., beta_item=2)\n",
    "bpmf_model.fit(dataset)\n",
    "\n",
    "recs = bpmf_model.recommend(users=test_users, dataset=dataset, k=10, filter_viewed=False)\n",
    "\n",
    "precision = Precision(k=10)\n",
    "recall = Recall(k=10)\n",
    "\n",
    "precision_value = precision.calc(reco=recs, interactions=interactions_test)\n",
    "recall_value = recall.calc(reco=recs, interactions=interactions_test)\n",
    "print(f\"precision: {precision_value}\\nrecall: {recall_value}\")\n",
    "print(recs['user_id'].unique().shape, recs['item_id'].unique().shape)"
   ]
  },
  {
   "cell_type": "code",
   "execution_count": 9,
   "metadata": {},
   "outputs": [
    {
     "name": "stdout",
     "output_type": "stream",
     "text": [
      "######## iteration 0\n",
      "iteration: 1, train RMSE: 32.14263581058249\n",
      "######## iteration 1\n",
      "iteration: 2, train RMSE: 20.133865464474482\n",
      "######## iteration 2\n",
      "iteration: 3, train RMSE: 14.642428759322039\n",
      "######## iteration 3\n",
      "iteration: 4, train RMSE: 11.64746027460828\n",
      "######## iteration 4\n",
      "iteration: 5, train RMSE: 9.874625039982629\n",
      "######## iteration 5\n",
      "iteration: 6, train RMSE: 8.767631620639971\n",
      "######## iteration 6\n",
      "iteration: 7, train RMSE: 8.09041216270621\n",
      "######## iteration 7\n",
      "iteration: 8, train RMSE: 7.68384455425684\n",
      "######## iteration 8\n",
      "iteration: 9, train RMSE: 7.491984630669727\n",
      "######## iteration 9\n",
      "iteration: 10, train RMSE: 7.416333617488054\n",
      "precision: 0.0030139935414424113\n",
      "recall: 0.009888076926652356\n",
      "(3716,) (1377,)\n"
     ]
    }
   ],
   "source": [
    "from rectools.models import BayesProbMF_V4\n",
    "\n",
    "bpmf_model = BayesProbMF_V4(verbose=1, n_iters=10, n_feature=14, max_rating=100., min_rating=0., beta=2., beta_user=2., beta_item=2)\n",
    "bpmf_model.fit(dataset)\n",
    "\n",
    "recs = bpmf_model.recommend(users=test_users, dataset=dataset, k=10, filter_viewed=False)\n",
    "\n",
    "precision = Precision(k=10)\n",
    "recall = Recall(k=10)\n",
    "\n",
    "precision_value = precision.calc(reco=recs, interactions=interactions_test)\n",
    "recall_value = recall.calc(reco=recs, interactions=interactions_test)\n",
    "print(f\"precision: {precision_value}\\nrecall: {recall_value}\")\n",
    "print(recs['user_id'].unique().shape, recs['item_id'].unique().shape)"
   ]
  },
  {
   "cell_type": "code",
   "execution_count": 10,
   "metadata": {},
   "outputs": [
    {
     "name": "stdout",
     "output_type": "stream",
     "text": [
      "######## iteration 0\n",
      "iteration: 1, train RMSE: 32.90258440762526\n",
      "######## iteration 1\n",
      "iteration: 2, train RMSE: 21.28514581163706\n",
      "######## iteration 2\n",
      "iteration: 3, train RMSE: 15.613833998351486\n",
      "######## iteration 3\n",
      "iteration: 4, train RMSE: 12.44185656985114\n",
      "######## iteration 4\n",
      "iteration: 5, train RMSE: 10.534089714986642\n",
      "######## iteration 5\n",
      "iteration: 6, train RMSE: 9.35042629894733\n",
      "######## iteration 6\n",
      "iteration: 7, train RMSE: 8.613757706028256\n",
      "######## iteration 7\n",
      "iteration: 8, train RMSE: 8.145859644131482\n",
      "######## iteration 8\n",
      "iteration: 9, train RMSE: 7.861505102877246\n",
      "######## iteration 9\n",
      "iteration: 10, train RMSE: 7.722661853743325\n",
      "######## iteration 10\n",
      "iteration: 11, train RMSE: 7.662784975200289\n",
      "######## iteration 11\n",
      "iteration: 12, train RMSE: 7.673964791481265\n",
      "######## iteration 12\n",
      "iteration: 13, train RMSE: 7.722483839052663\n",
      "######## iteration 13\n",
      "iteration: 14, train RMSE: 7.782262246376285\n",
      "######## iteration 14\n",
      "iteration: 15, train RMSE: 7.844606011163657\n",
      "######## iteration 15\n",
      "iteration: 16, train RMSE: 7.933832203487612\n",
      "######## iteration 16\n",
      "iteration: 17, train RMSE: 8.029273088452682\n",
      "######## iteration 17\n",
      "iteration: 18, train RMSE: 8.134445233593421\n",
      "######## iteration 18\n",
      "iteration: 19, train RMSE: 8.235900275710513\n",
      "######## iteration 19\n",
      "iteration: 20, train RMSE: 8.339242712481022\n",
      "######## iteration 20\n",
      "iteration: 21, train RMSE: 8.4344279140248\n",
      "######## iteration 21\n",
      "iteration: 22, train RMSE: 8.530018619007162\n",
      "######## iteration 22\n",
      "iteration: 23, train RMSE: 8.6254787891486\n",
      "######## iteration 23\n",
      "iteration: 24, train RMSE: 8.703761228565519\n",
      "######## iteration 24\n",
      "iteration: 25, train RMSE: 8.777156352157933\n",
      "######## iteration 25\n",
      "iteration: 26, train RMSE: 8.846073333241407\n",
      "######## iteration 26\n",
      "iteration: 27, train RMSE: 8.919343586613614\n",
      "######## iteration 27\n",
      "iteration: 28, train RMSE: 8.974609201435202\n",
      "######## iteration 28\n",
      "iteration: 29, train RMSE: 9.028488430166602\n",
      "######## iteration 29\n",
      "iteration: 30, train RMSE: 9.088137182384779\n",
      "precision: 0.003821313240043057\n",
      "recall: 0.01514502971978843\n",
      "(3716,) (1196,)\n"
     ]
    }
   ],
   "source": [
    "from rectools.models import BayesProbMF_V4\n",
    "\n",
    "bpmf_model = BayesProbMF_V4(verbose=1, n_iters=30, n_feature=9, max_rating=100., min_rating=0., beta=2., beta_user=2., beta_item=2)\n",
    "bpmf_model.fit(dataset)\n",
    "\n",
    "recs = bpmf_model.recommend(users=test_users, dataset=dataset, k=10, filter_viewed=False)\n",
    "\n",
    "precision = Precision(k=10)\n",
    "recall = Recall(k=10)\n",
    "\n",
    "precision_value = precision.calc(reco=recs, interactions=interactions_test)\n",
    "recall_value = recall.calc(reco=recs, interactions=interactions_test)\n",
    "print(f\"precision: {precision_value}\\nrecall: {recall_value}\")\n",
    "print(recs['user_id'].unique().shape, recs['item_id'].unique().shape)"
   ]
  },
  {
   "cell_type": "code",
   "execution_count": 32,
   "metadata": {},
   "outputs": [],
   "source": [
    "def rmse(predictions, targets):\n",
    "    return np.sqrt(((predictions - targets) ** 2).mean())"
   ]
  },
  {
   "cell_type": "code",
   "execution_count": 33,
   "metadata": {},
   "outputs": [],
   "source": [
    "pred_R = np.dot(bpmf_model.user_factors, bpmf_model.item_factors.T)"
   ]
  },
  {
   "cell_type": "code",
   "execution_count": 36,
   "metadata": {},
   "outputs": [
    {
     "data": {
      "text/plain": [
       "array([[-35.73841029,  22.72027907,  11.31002534, ...,   6.56680632,\n",
       "         48.37728365,  42.90100463],\n",
       "       [ 12.98025531, -22.32199632,  59.03022792, ..., -27.96933993,\n",
       "         39.31619415,  26.19812947],\n",
       "       [  3.21905399, -59.49182103,  -8.26544421, ...,  24.81643981,\n",
       "         41.40937376,  37.42525014],\n",
       "       ...,\n",
       "       [ 49.62378123,   1.05275368, -75.47833325, ...,   0.0856624 ,\n",
       "         19.21973545,  47.62404242],\n",
       "       [-72.54810615, -32.0806478 ,  14.08256193, ...,   9.67344978,\n",
       "         42.00170778,  65.84922231],\n",
       "       [ 10.78047893, -22.31528488,  19.01730124, ...,  16.34102584,\n",
       "         63.77299425,   7.88588597]])"
      ]
     },
     "execution_count": 36,
     "metadata": {},
     "output_type": "execute_result"
    }
   ],
   "source": [
    "pred_R"
   ]
  },
  {
   "cell_type": "code",
   "execution_count": 37,
   "metadata": {},
   "outputs": [
    {
     "data": {
      "text/plain": [
       "(-452.3596430582326, 484.9278300286503)"
      ]
     },
     "execution_count": 37,
     "metadata": {},
     "output_type": "execute_result"
    }
   ],
   "source": [
    "pred_R.min(), pred_R.max()"
   ]
  },
  {
   "cell_type": "code",
   "execution_count": 38,
   "metadata": {},
   "outputs": [
    {
     "data": {
      "text/plain": [
       "39.95557595736751"
      ]
     },
     "execution_count": 38,
     "metadata": {},
     "output_type": "execute_result"
    }
   ],
   "source": [
    "rmse(pred_R, dataset.get_user_item_matrix().toarray())"
   ]
  },
  {
   "cell_type": "code",
   "execution_count": 28,
   "metadata": {},
   "outputs": [
    {
     "data": {
      "text/plain": [
       "(9646, 3273)"
      ]
     },
     "execution_count": 28,
     "metadata": {},
     "output_type": "execute_result"
    }
   ],
   "source": [
    "pred_R = np.dot(pure_svd_model.user_factors, pure_svd_model.item_factors.T)\n",
    "pred_R.shape"
   ]
  },
  {
   "cell_type": "code",
   "execution_count": 29,
   "metadata": {},
   "outputs": [
    {
     "data": {
      "text/plain": [
       "(-23.326809, 127.0968)"
      ]
     },
     "execution_count": 29,
     "metadata": {},
     "output_type": "execute_result"
    }
   ],
   "source": [
    "pred_R.min(), pred_R.max()"
   ]
  },
  {
   "cell_type": "code",
   "execution_count": 31,
   "metadata": {},
   "outputs": [
    {
     "data": {
      "text/plain": [
       "1.374893"
      ]
     },
     "execution_count": 31,
     "metadata": {},
     "output_type": "execute_result"
    }
   ],
   "source": [
    "rmse(pred_R, dataset.get_user_item_matrix().toarray())"
   ]
  },
  {
   "cell_type": "code",
   "execution_count": 40,
   "metadata": {},
   "outputs": [
    {
     "name": "stdout",
     "output_type": "stream",
     "text": [
      "######## iteration 0\n",
      "iteration: 1, train RMSE: 32.63250719505038\n",
      "######## iteration 1\n",
      "iteration: 2, train RMSE: 20.975747831859152\n",
      "######## iteration 2\n",
      "iteration: 3, train RMSE: 15.357583880254976\n",
      "######## iteration 3\n",
      "iteration: 4, train RMSE: 12.221639801814437\n",
      "######## iteration 4\n",
      "iteration: 5, train RMSE: 10.34485484082636\n",
      "precision: 0.003659849300322928\n",
      "recall: 0.013941019110395868\n",
      "(3716,) (790,)\n",
      "rmse 43.777431238654174\n"
     ]
    }
   ],
   "source": [
    "from rectools.models import BayesProbMF_V4\n",
    "\n",
    "bpmf_model = BayesProbMF_V4(verbose=1, n_iters=5, n_feature=10, max_rating=100., min_rating=0., beta=2., beta_user=2., beta_item=2)\n",
    "bpmf_model.fit(dataset)\n",
    "\n",
    "recs = bpmf_model.recommend(users=test_users, dataset=dataset, k=10, filter_viewed=False)\n",
    "\n",
    "precision = Precision(k=10)\n",
    "recall = Recall(k=10)\n",
    "\n",
    "precision_value = precision.calc(reco=recs, interactions=interactions_test)\n",
    "recall_value = recall.calc(reco=recs, interactions=interactions_test)\n",
    "print(f\"precision: {precision_value}\\nrecall: {recall_value}\")\n",
    "print(recs['user_id'].unique().shape, recs['item_id'].unique().shape)\n",
    "\n",
    "pred_R = np.dot(bpmf_model.user_factors, bpmf_model.item_factors.T)\n",
    "print('rmse', rmse(pred_R, dataset.get_user_item_matrix().toarray()))"
   ]
  },
  {
   "cell_type": "code",
   "execution_count": 41,
   "metadata": {},
   "outputs": [
    {
     "name": "stdout",
     "output_type": "stream",
     "text": [
      "######## iteration 0\n",
      "iteration: 1, train RMSE: 32.63250719505038\n",
      "######## iteration 1\n",
      "iteration: 2, train RMSE: 20.975747831859152\n",
      "######## iteration 2\n",
      "iteration: 3, train RMSE: 15.357583880254976\n",
      "######## iteration 3\n",
      "iteration: 4, train RMSE: 12.221639801814437\n",
      "######## iteration 4\n",
      "iteration: 5, train RMSE: 10.34485484082636\n",
      "######## iteration 5\n",
      "iteration: 6, train RMSE: 9.178165858001858\n",
      "######## iteration 6\n",
      "iteration: 7, train RMSE: 8.4633752372555\n",
      "######## iteration 7\n",
      "iteration: 8, train RMSE: 8.023760232116691\n",
      "######## iteration 8\n",
      "iteration: 9, train RMSE: 7.747666811242639\n",
      "######## iteration 9\n",
      "iteration: 10, train RMSE: 7.629712043685248\n",
      "precision: 0.004790096878363832\n",
      "recall: 0.018530246610991296\n",
      "(3716,) (1262,)\n",
      "rmse 37.39718576294507\n"
     ]
    }
   ],
   "source": [
    "from rectools.models import BayesProbMF_V4\n",
    "\n",
    "bpmf_model = BayesProbMF_V4(verbose=1, n_iters=10, n_feature=10, max_rating=100., min_rating=0., beta=2., beta_user=2., beta_item=2)\n",
    "bpmf_model.fit(dataset)\n",
    "\n",
    "recs = bpmf_model.recommend(users=test_users, dataset=dataset, k=10, filter_viewed=False)\n",
    "\n",
    "precision = Precision(k=10)\n",
    "recall = Recall(k=10)\n",
    "\n",
    "precision_value = precision.calc(reco=recs, interactions=interactions_test)\n",
    "recall_value = recall.calc(reco=recs, interactions=interactions_test)\n",
    "print(f\"precision: {precision_value}\\nrecall: {recall_value}\")\n",
    "print(recs['user_id'].unique().shape, recs['item_id'].unique().shape)\n",
    "\n",
    "pred_R = np.dot(bpmf_model.user_factors, bpmf_model.item_factors.T)\n",
    "print('rmse', rmse(pred_R, dataset.get_user_item_matrix().toarray()))"
   ]
  },
  {
   "cell_type": "code",
   "execution_count": 42,
   "metadata": {},
   "outputs": [
    {
     "name": "stdout",
     "output_type": "stream",
     "text": [
      "######## iteration 0\n",
      "iteration: 1, train RMSE: 32.63250719505038\n",
      "######## iteration 1\n",
      "iteration: 2, train RMSE: 20.975747831859152\n",
      "######## iteration 2\n",
      "iteration: 3, train RMSE: 15.357583880254976\n",
      "######## iteration 3\n",
      "iteration: 4, train RMSE: 12.221639801814437\n",
      "######## iteration 4\n",
      "iteration: 5, train RMSE: 10.34485484082636\n",
      "######## iteration 5\n",
      "iteration: 6, train RMSE: 9.178165858001858\n",
      "######## iteration 6\n",
      "iteration: 7, train RMSE: 8.4633752372555\n",
      "######## iteration 7\n",
      "iteration: 8, train RMSE: 8.023760232116691\n",
      "######## iteration 8\n",
      "iteration: 9, train RMSE: 7.747666811242639\n",
      "######## iteration 9\n",
      "iteration: 10, train RMSE: 7.629712043685248\n",
      "######## iteration 10\n",
      "iteration: 11, train RMSE: 7.610726905428162\n",
      "######## iteration 11\n",
      "iteration: 12, train RMSE: 7.651304772321509\n",
      "######## iteration 12\n",
      "iteration: 13, train RMSE: 7.716848942036637\n",
      "######## iteration 13\n",
      "iteration: 14, train RMSE: 7.818895963863033\n",
      "######## iteration 14\n",
      "iteration: 15, train RMSE: 7.914735871549813\n",
      "######## iteration 15\n",
      "iteration: 16, train RMSE: 8.047061420303132\n",
      "######## iteration 16\n",
      "iteration: 17, train RMSE: 8.19467085330328\n",
      "######## iteration 17\n",
      "iteration: 18, train RMSE: 8.307437540169147\n",
      "######## iteration 18\n",
      "iteration: 19, train RMSE: 8.416199893575769\n",
      "######## iteration 19\n",
      "iteration: 20, train RMSE: 8.515436177704867\n",
      "######## iteration 20\n",
      "iteration: 21, train RMSE: 8.608254032243984\n",
      "######## iteration 21\n",
      "iteration: 22, train RMSE: 8.707107579756055\n",
      "######## iteration 22\n",
      "iteration: 23, train RMSE: 8.810875482149772\n",
      "######## iteration 23\n",
      "iteration: 24, train RMSE: 8.898689217060262\n",
      "######## iteration 24\n",
      "iteration: 25, train RMSE: 8.98950149515511\n",
      "######## iteration 25\n",
      "iteration: 26, train RMSE: 9.073948591006456\n",
      "######## iteration 26\n",
      "iteration: 27, train RMSE: 9.148302129408846\n",
      "######## iteration 27\n",
      "iteration: 28, train RMSE: 9.21631099576938\n",
      "######## iteration 28\n",
      "iteration: 29, train RMSE: 9.289983126048616\n",
      "######## iteration 29\n",
      "iteration: 30, train RMSE: 9.353317423005189\n",
      "precision: 0.0035522066738428414\n",
      "recall: 0.012807243354118645\n",
      "(3716,) (1430,)\n",
      "rmse 38.286980268701306\n"
     ]
    }
   ],
   "source": [
    "from rectools.models import BayesProbMF_V4\n",
    "\n",
    "bpmf_model = BayesProbMF_V4(verbose=1, n_iters=30, n_feature=10, max_rating=100., min_rating=0., beta=2., beta_user=2., beta_item=2)\n",
    "bpmf_model.fit(dataset)\n",
    "\n",
    "recs = bpmf_model.recommend(users=test_users, dataset=dataset, k=10, filter_viewed=False)\n",
    "\n",
    "precision = Precision(k=10)\n",
    "recall = Recall(k=10)\n",
    "\n",
    "precision_value = precision.calc(reco=recs, interactions=interactions_test)\n",
    "recall_value = recall.calc(reco=recs, interactions=interactions_test)\n",
    "print(f\"precision: {precision_value}\\nrecall: {recall_value}\")\n",
    "print(recs['user_id'].unique().shape, recs['item_id'].unique().shape)\n",
    "\n",
    "pred_R = np.dot(bpmf_model.user_factors, bpmf_model.item_factors.T)\n",
    "print('rmse', rmse(pred_R, dataset.get_user_item_matrix().toarray()))"
   ]
  },
  {
   "cell_type": "code",
   "execution_count": 45,
   "metadata": {},
   "outputs": [
    {
     "name": "stdout",
     "output_type": "stream",
     "text": [
      "######## iteration 0\n",
      "iteration: 1, train RMSE: 27.60106458260074\n",
      "######## iteration 1\n",
      "iteration: 2, train RMSE: 15.984603266682587\n",
      "######## iteration 2\n",
      "iteration: 3, train RMSE: 11.96453052075426\n",
      "######## iteration 3\n",
      "iteration: 4, train RMSE: 9.869945943313738\n",
      "######## iteration 4\n",
      "iteration: 5, train RMSE: 8.623584892273804\n",
      "######## iteration 5\n",
      "iteration: 6, train RMSE: 7.836578323814771\n",
      "######## iteration 6\n",
      "iteration: 7, train RMSE: 7.37300450477254\n",
      "######## iteration 7\n",
      "iteration: 8, train RMSE: 7.096270167179779\n",
      "######## iteration 8\n",
      "iteration: 9, train RMSE: 6.973152636827912\n",
      "######## iteration 9\n",
      "iteration: 10, train RMSE: 6.943520494121912\n",
      "precision: 0.0015877287405812702\n",
      "recall: 0.006259221617291649\n",
      "(3716,) (1514,)\n",
      "rmse 37.59580854813635\n"
     ]
    }
   ],
   "source": [
    "from rectools.models import BayesProbMF_V4\n",
    "\n",
    "bpmf_model = BayesProbMF_V4(verbose=1, n_iters=10, n_feature=64, max_rating=100., min_rating=0., beta=2., beta_user=2., beta_item=2)\n",
    "bpmf_model.fit(dataset)\n",
    "\n",
    "recs = bpmf_model.recommend(users=test_users, dataset=dataset, k=10, filter_viewed=False)\n",
    "\n",
    "precision = Precision(k=10)\n",
    "recall = Recall(k=10)\n",
    "\n",
    "precision_value = precision.calc(reco=recs, interactions=interactions_test)\n",
    "recall_value = recall.calc(reco=recs, interactions=interactions_test)\n",
    "print(f\"precision: {precision_value}\\nrecall: {recall_value}\")\n",
    "print(recs['user_id'].unique().shape, recs['item_id'].unique().shape)\n",
    "\n",
    "pred_R = np.dot(bpmf_model.user_factors, bpmf_model.item_factors.T)\n",
    "print('rmse', rmse(pred_R, dataset.get_user_item_matrix().toarray()))"
   ]
  }
 ],
 "metadata": {
  "kernelspec": {
   "display_name": ".venv",
   "language": "python",
   "name": "python3"
  },
  "language_info": {
   "codemirror_mode": {
    "name": "ipython",
    "version": 3
   },
   "file_extension": ".py",
   "mimetype": "text/x-python",
   "name": "python",
   "nbconvert_exporter": "python",
   "pygments_lexer": "ipython3",
   "version": "3.10.12"
  }
 },
 "nbformat": 4,
 "nbformat_minor": 2
}
