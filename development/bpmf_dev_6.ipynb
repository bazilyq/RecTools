{
 "cells": [
  {
   "cell_type": "code",
   "execution_count": 1,
   "metadata": {},
   "outputs": [
    {
     "name": "stderr",
     "output_type": "stream",
     "text": [
      "/home/bazilyq/Рабочий стол/work/RecTools/.venv/lib/python3.10/site-packages/scipy/__init__.py:146: UserWarning: A NumPy version >=1.16.5 and <1.23.0 is required for this version of SciPy (detected version 1.26.4\n",
      "  warnings.warn(f\"A NumPy version >={np_minversion} and <{np_maxversion}\"\n",
      "/home/bazilyq/Рабочий стол/work/RecTools/.venv/lib/python3.10/site-packages/tqdm/auto.py:21: TqdmWarning: IProgress not found. Please update jupyter and ipywidgets. See https://ipywidgets.readthedocs.io/en/stable/user_install.html\n",
      "  from .autonotebook import tqdm as notebook_tqdm\n"
     ]
    }
   ],
   "source": [
    "import pandas as pd\n",
    "from rectools import Columns\n",
    "from rectools.model_selection import TimeRangeSplitter\n",
    "from rectools.dataset import Dataset\n",
    "from rectools.models import PopularModel, PureSVDModel\n",
    "from rectools.metrics import Precision, Recall, MeanInvUserFreq, Serendipity, calc_metrics\n",
    "import numpy as np\n",
    "\n",
    "import matplotlib.pyplot as plt\n",
    "from matplotlib.pyplot import figure"
   ]
  },
  {
   "cell_type": "code",
   "execution_count": 2,
   "metadata": {},
   "outputs": [
    {
     "data": {
      "text/plain": [
       "(9646, 3273)"
      ]
     },
     "execution_count": 2,
     "metadata": {},
     "output_type": "execute_result"
    }
   ],
   "source": [
    "np.random.seed(0)\n",
    "DATA_PATH = '../datasets/KION/data/'\n",
    "users_df = pd.read_csv(DATA_PATH + 'users.csv',)\n",
    "items_df = pd.read_csv(DATA_PATH + 'items.csv',)\n",
    "interactions = pd.read_csv(DATA_PATH + 'interactions.csv')\n",
    "\n",
    "# interactions_train = interactions.query(\"last_watch_dt >= '2021-07-15' and last_watch_dt < '2021-08-16'\").copy()\n",
    "interactions_train = interactions.query(\"last_watch_dt >= '2021-08-10' and last_watch_dt < '2021-08-16'\").copy()\n",
    "interactions_test = interactions.query(\"last_watch_dt >= '2021-08-16'\").copy()\n",
    "\n",
    "sample_users = np.random.choice(interactions_train['user_id'].unique(), 10000)\n",
    "interactions_train = interactions_train[interactions_train['user_id'].isin(sample_users)]\n",
    "\n",
    "interactions_test = interactions_test.loc[\n",
    "    interactions_test[\"user_id\"].isin(interactions_train[\"user_id\"])\n",
    "    & interactions_test[\"item_id\"].isin(interactions_train[\"item_id\"])\n",
    "]\n",
    "\n",
    "interactions_train.fillna({\"watched_pct\": 1}, inplace=True)\n",
    "interactions_train['watched_pct'] = interactions_train['watched_pct'].astype(int)\n",
    "\n",
    "dataset = Dataset.construct(\n",
    "    interactions_df=interactions_train\n",
    "    .rename(\n",
    "        columns={\n",
    "            \"user_id\": Columns.User,\n",
    "            \"item_id\": Columns.Item,\n",
    "            \"last_watch_dt\": Columns.Datetime,\n",
    "            \"watched_pct\": Columns.Weight,\n",
    "        }\n",
    "    )\n",
    "    .reindex(columns=Columns.Interactions)\n",
    ")\n",
    "\n",
    "test_users = interactions_test[\"user_id\"].unique()\n",
    "test_users.size\n",
    "\n",
    "user_ext_to_int_map = dataset.user_id_map.to_internal.to_dict()\n",
    "item_int_to_ext_map = dataset.item_id_map.to_external.to_dict()\n",
    "\n",
    "ui_csr = dataset.get_user_item_matrix()\n",
    "ui_csr.shape"
   ]
  },
  {
   "cell_type": "code",
   "execution_count": 3,
   "metadata": {},
   "outputs": [
    {
     "name": "stdout",
     "output_type": "stream",
     "text": [
      "PureSVDModel\n",
      "precision: 0.016442411194833154\n",
      "recall: 0.06239342800454374 \n",
      "\n",
      "(3716,) (112,)\n",
      "CPU times: user 1.91 s, sys: 1.72 s, total: 3.63 s\n",
      "Wall time: 644 ms\n"
     ]
    }
   ],
   "source": [
    "%%time\n",
    "pure_svd_model = PureSVDModel(verbose=1)\n",
    "pure_svd_model.fit(dataset)\n",
    "\n",
    "recs = pure_svd_model.recommend(users=test_users, dataset=dataset, k=10, filter_viewed=False)\n",
    "\n",
    "precision = Precision(k=10)\n",
    "recall = Recall(k=10)\n",
    "\n",
    "precision_value = precision.calc(reco=recs, interactions=interactions_test)\n",
    "recall_value = recall.calc(reco=recs, interactions=interactions_test)\n",
    "print('PureSVDModel')\n",
    "print(f\"precision: {precision_value}\\nrecall: {recall_value}\", '\\n')\n",
    "print(recs['user_id'].unique().shape, recs['item_id'].unique().shape)"
   ]
  },
  {
   "cell_type": "code",
   "execution_count": 4,
   "metadata": {},
   "outputs": [
    {
     "data": {
      "text/plain": [
       "(112,)"
      ]
     },
     "execution_count": 4,
     "metadata": {},
     "output_type": "execute_result"
    }
   ],
   "source": [
    "pure_svd_model.recommend(users=test_users, dataset=dataset, k=10, filter_viewed=False)['item_id'].unique().shape"
   ]
  },
  {
   "cell_type": "code",
   "execution_count": 12,
   "metadata": {},
   "outputs": [
    {
     "name": "stdout",
     "output_type": "stream",
     "text": [
      "0\n",
      "_update_item_params --- 0.010700464248657227 seconds ---\n",
      "_update_user_params --- 0.008363723754882812 seconds ---\n",
      "_udpate_item_features --- 0.9364006519317627 seconds ---\n",
      "_update_user_features --- 2.321230888366699 seconds ---\n",
      "_update_average_features --- 0.0004551410675048828 seconds ---\n",
      "iteration: 1, train RMSE: 32.63250719505038\n",
      "_update_item_params --- 0.0016720294952392578 seconds ---\n",
      "_update_user_params --- 0.001730203628540039 seconds ---\n",
      "_udpate_item_features --- 1.071181058883667 seconds ---\n",
      "_update_user_features --- 2.5688424110412598 seconds ---\n",
      "_update_average_features --- 0.0007374286651611328 seconds ---\n",
      "iteration: 2, train RMSE: 20.975747831859152\n",
      "_update_item_params --- 0.002885103225708008 seconds ---\n",
      "_update_user_params --- 0.003625631332397461 seconds ---\n",
      "_udpate_item_features --- 0.8813178539276123 seconds ---\n",
      "_update_user_features --- 2.7865371704101562 seconds ---\n",
      "_update_average_features --- 0.0004780292510986328 seconds ---\n",
      "iteration: 3, train RMSE: 15.357583880254976\n",
      "_update_item_params --- 0.0016856193542480469 seconds ---\n",
      "_update_user_params --- 0.0034749507904052734 seconds ---\n",
      "_udpate_item_features --- 0.8580918312072754 seconds ---\n",
      "_update_user_features --- 2.332396984100342 seconds ---\n",
      "_update_average_features --- 0.0006482601165771484 seconds ---\n",
      "iteration: 4, train RMSE: 12.221639801814437\n",
      "_update_item_params --- 0.0016281604766845703 seconds ---\n",
      "_update_user_params --- 0.005369663238525391 seconds ---\n",
      "_udpate_item_features --- 1.3577346801757812 seconds ---\n",
      "_update_user_features --- 2.8340208530426025 seconds ---\n",
      "_update_average_features --- 0.00044727325439453125 seconds ---\n",
      "iteration: 5, train RMSE: 10.34485484082636\n",
      "_update_item_params --- 0.002037525177001953 seconds ---\n",
      "_update_user_params --- 0.004622459411621094 seconds ---\n",
      "_udpate_item_features --- 1.045853614807129 seconds ---\n",
      "_update_user_features --- 2.4656283855438232 seconds ---\n",
      "_update_average_features --- 0.0005872249603271484 seconds ---\n",
      "iteration: 6, train RMSE: 9.178165858001858\n",
      "_update_item_params --- 0.0014357566833496094 seconds ---\n",
      "_update_user_params --- 0.003681659698486328 seconds ---\n",
      "_udpate_item_features --- 0.8523783683776855 seconds ---\n",
      "_update_user_features --- 2.829390287399292 seconds ---\n",
      "_update_average_features --- 0.0006422996520996094 seconds ---\n",
      "iteration: 7, train RMSE: 8.4633752372555\n",
      "_update_item_params --- 0.0033032894134521484 seconds ---\n",
      "_update_user_params --- 0.003941059112548828 seconds ---\n",
      "_udpate_item_features --- 0.872748613357544 seconds ---\n",
      "_update_user_features --- 2.7411749362945557 seconds ---\n",
      "_update_average_features --- 0.0007953643798828125 seconds ---\n",
      "iteration: 8, train RMSE: 8.023760232116691\n",
      "_update_item_params --- 0.0017633438110351562 seconds ---\n",
      "_update_user_params --- 0.005995273590087891 seconds ---\n",
      "_udpate_item_features --- 0.9616677761077881 seconds ---\n",
      "_update_user_features --- 2.947417974472046 seconds ---\n",
      "_update_average_features --- 0.0005209445953369141 seconds ---\n",
      "iteration: 9, train RMSE: 7.747666811242639\n",
      "_update_item_params --- 0.0017228126525878906 seconds ---\n",
      "_update_user_params --- 0.004008054733276367 seconds ---\n",
      "_udpate_item_features --- 1.0950062274932861 seconds ---\n",
      "_update_user_features --- 2.627755641937256 seconds ---\n",
      "_update_average_features --- 0.00047206878662109375 seconds ---\n",
      "iteration: 10, train RMSE: 7.629712043685248\n",
      "precision: 0.004790096878363832\n",
      "recall: 0.018530246610991296\n",
      "(3716,) (1262,)\n",
      "CPU times: user 41.1 s, sys: 5.92 s, total: 47 s\n",
      "Wall time: 36.9 s\n"
     ]
    }
   ],
   "source": [
    "%%time\n",
    "# numba version\n",
    "from rectools.models import BayesProbMF_V3\n",
    "\n",
    "bpmf_model = BayesProbMF_V3(verbose=1, n_iters=10, n_feature=10, max_rating=100., min_rating=0., beta=2., beta_user=2., beta_item=2, seed=0)\n",
    "bpmf_model.fit(dataset)\n",
    "\n",
    "recs = bpmf_model.recommend(users=test_users, dataset=dataset, k=10, filter_viewed=False)\n",
    "\n",
    "precision = Precision(k=10)\n",
    "recall = Recall(k=10)\n",
    "\n",
    "precision_value = precision.calc(reco=recs , interactions=interactions_test)\n",
    "recall_value = recall.calc(reco=recs, interactions=interactions_test)\n",
    "print(f\"precision: {precision_value}\\nrecall: {recall_value}\")\n",
    "print(recs['user_id'].unique().shape, recs['item_id'].unique().shape)"
   ]
  },
  {
   "cell_type": "code",
   "execution_count": 5,
   "metadata": {},
   "outputs": [
    {
     "name": "stdout",
     "output_type": "stream",
     "text": [
      "0\n",
      "iteration: 1, train RMSE: 31.42509274509129\n",
      "iteration: 2, train RMSE: 19.18725881150648\n",
      "iteration: 3, train RMSE: 13.950517255640332\n",
      "iteration: 4, train RMSE: 11.165711969061135\n",
      "iteration: 5, train RMSE: 9.515639612871189\n",
      "iteration: 6, train RMSE: 8.466328361144381\n",
      "iteration: 7, train RMSE: 7.841096998363371\n",
      "iteration: 8, train RMSE: 7.482268848658177\n",
      "iteration: 9, train RMSE: 7.284678970206424\n",
      "iteration: 10, train RMSE: 7.206825565625938\n",
      "precision: 0.0021797631862217437\n",
      "recall: 0.007743531223433212\n",
      "(3716,) (1441,)\n",
      "CPU times: user 39.4 s, sys: 7.98 s, total: 47.3 s\n",
      "Wall time: 33.8 s\n"
     ]
    }
   ],
   "source": [
    "%%time\n",
    "# numba version\n",
    "from rectools.models import BayesProbMF_V3\n",
    "\n",
    "bpmf_model = BayesProbMF_V3(verbose=1, n_iters=10, n_feature=20, max_rating=100., min_rating=0., beta=2., beta_user=2., beta_item=2, seed=0)\n",
    "bpmf_model.fit(dataset)\n",
    "\n",
    "recs = bpmf_model.recommend(users=test_users, dataset=dataset, k=10, filter_viewed=False)\n",
    "\n",
    "precision = Precision(k=10)\n",
    "recall = Recall(k=10)\n",
    "\n",
    "precision_value = precision.calc(reco=recs , interactions=interactions_test)\n",
    "recall_value = recall.calc(reco=recs, interactions=interactions_test)\n",
    "print(f\"precision: {precision_value}\\nrecall: {recall_value}\")\n",
    "print(recs['user_id'].unique().shape, recs['item_id'].unique().shape)"
   ]
  },
  {
   "cell_type": "code",
   "execution_count": 6,
   "metadata": {},
   "outputs": [
    {
     "name": "stdout",
     "output_type": "stream",
     "text": [
      "0\n",
      "iteration: 1, train RMSE: 28.558472674565465\n",
      "iteration: 2, train RMSE: 16.690623065099075\n",
      "iteration: 3, train RMSE: 12.374375029183549\n",
      "iteration: 4, train RMSE: 10.111029144835314\n",
      "iteration: 5, train RMSE: 8.789850075029214\n",
      "iteration: 6, train RMSE: 7.95297652739522\n",
      "iteration: 7, train RMSE: 7.4354026193946305\n",
      "iteration: 8, train RMSE: 7.17304696617773\n",
      "iteration: 9, train RMSE: 7.053402052769508\n",
      "iteration: 10, train RMSE: 7.00926106103287\n",
      "precision: 0.0008880516684607103\n",
      "recall: 0.0026956000583557094\n",
      "(3716,) (1527,)\n",
      "CPU times: user 3min 29s, sys: 28.3 s, total: 3min 57s\n",
      "Wall time: 3min 12s\n"
     ]
    }
   ],
   "source": [
    "%%time\n",
    "# numba version\n",
    "from rectools.models import BayesProbMF_V3\n",
    "\n",
    "bpmf_model = BayesProbMF_V3(verbose=1, n_iters=10, n_feature=50, max_rating=100., min_rating=0., beta=2., beta_user=2., beta_item=2, seed=0)\n",
    "bpmf_model.fit(dataset)\n",
    "\n",
    "recs = bpmf_model.recommend(users=test_users, dataset=dataset, k=10, filter_viewed=False)\n",
    "\n",
    "precision = Precision(k=10)\n",
    "recall = Recall(k=10)\n",
    "\n",
    "precision_value = precision.calc(reco=recs , interactions=interactions_test)\n",
    "recall_value = recall.calc(reco=recs, interactions=interactions_test)\n",
    "print(f\"precision: {precision_value}\\nrecall: {recall_value}\")\n",
    "print(recs['user_id'].unique().shape, recs['item_id'].unique().shape)"
   ]
  },
  {
   "cell_type": "code",
   "execution_count": 6,
   "metadata": {},
   "outputs": [
    {
     "name": "stdout",
     "output_type": "stream",
     "text": [
      "0\n",
      "iteration: 1, train RMSE: 32.63250719505038\n",
      "iteration: 2, train RMSE: 20.975747831859152\n",
      "iteration: 3, train RMSE: 15.357583880254976\n",
      "iteration: 4, train RMSE: 12.221639801814437\n",
      "iteration: 5, train RMSE: 10.34485484082636\n",
      "iteration: 6, train RMSE: 9.178165858001858\n",
      "iteration: 7, train RMSE: 8.4633752372555\n",
      "iteration: 8, train RMSE: 8.023760232116691\n",
      "iteration: 9, train RMSE: 7.747666811242639\n",
      "iteration: 10, train RMSE: 7.629712043685248\n",
      "precision: 0.004790096878363832\n",
      "recall: 0.018530246610991296\n",
      "(3716,) (1262,)\n",
      "CPU times: user 38 s, sys: 6.35 s, total: 44.4 s\n",
      "Wall time: 33.4 s\n"
     ]
    }
   ],
   "source": [
    "%%time\n",
    "# numba version\n",
    "from rectools.models import BayesProbMF_V3\n",
    "\n",
    "bpmf_model = BayesProbMF_V3(verbose=1, n_iters=10, n_feature=10, max_rating=100., min_rating=0., beta=2., beta_user=2., beta_item=2, seed=0)\n",
    "bpmf_model.fit(dataset)\n",
    "\n",
    "recs = bpmf_model.recommend(users=test_users, dataset=dataset, k=10, filter_viewed=False)\n",
    "\n",
    "precision = Precision(k=10)\n",
    "recall = Recall(k=10)\n",
    "\n",
    "precision_value = precision.calc(reco=recs , interactions=interactions_test)\n",
    "recall_value = recall.calc(reco=recs, interactions=interactions_test)\n",
    "print(f\"precision: {precision_value}\\nrecall: {recall_value}\")\n",
    "print(recs['user_id'].unique().shape, recs['item_id'].unique().shape)"
   ]
  },
  {
   "cell_type": "code",
   "execution_count": 7,
   "metadata": {},
   "outputs": [
    {
     "name": "stdout",
     "output_type": "stream",
     "text": [
      "0\n",
      "iteration: 1, train RMSE: 32.63250719505038\n",
      "iteration: 2, train RMSE: 20.975747831859152\n",
      "iteration: 3, train RMSE: 15.357583880254976\n",
      "iteration: 4, train RMSE: 12.221639801814437\n",
      "iteration: 5, train RMSE: 10.34485484082636\n",
      "iteration: 6, train RMSE: 9.178165858001858\n",
      "iteration: 7, train RMSE: 8.4633752372555\n",
      "iteration: 8, train RMSE: 8.023760232116691\n",
      "iteration: 9, train RMSE: 7.747666811242639\n",
      "iteration: 10, train RMSE: 7.629712043685248\n",
      "iteration: 11, train RMSE: 7.610726905428162\n",
      "iteration: 12, train RMSE: 7.651304772321509\n",
      "iteration: 13, train RMSE: 7.716848942036637\n",
      "iteration: 14, train RMSE: 7.818895963863033\n",
      "iteration: 15, train RMSE: 7.914735871549813\n",
      "iteration: 16, train RMSE: 8.047061420303132\n",
      "iteration: 17, train RMSE: 8.19467085330328\n",
      "iteration: 18, train RMSE: 8.307437540169147\n",
      "iteration: 19, train RMSE: 8.416199893575769\n",
      "iteration: 20, train RMSE: 8.515436177704867\n",
      "precision: 0.004144241119483315\n",
      "recall: 0.015595703410161643\n",
      "(3716,) (1331,)\n",
      "CPU times: user 1min 7s, sys: 12 s, total: 1min 19s\n",
      "Wall time: 58.6 s\n"
     ]
    }
   ],
   "source": [
    "%%time\n",
    "# numba version\n",
    "from rectools.models import BayesProbMF_V3\n",
    "\n",
    "bpmf_model = BayesProbMF_V3(verbose=1, n_iters=20, n_feature=10, max_rating=100., min_rating=0., beta=2., beta_user=2., beta_item=2, seed=0)\n",
    "bpmf_model.fit(dataset)\n",
    "\n",
    "recs = bpmf_model.recommend(users=test_users, dataset=dataset, k=10, filter_viewed=False)\n",
    "\n",
    "precision = Precision(k=10)\n",
    "recall = Recall(k=10)\n",
    "\n",
    "precision_value = precision.calc(reco=recs , interactions=interactions_test)\n",
    "recall_value = recall.calc(reco=recs, interactions=interactions_test)\n",
    "print(f\"precision: {precision_value}\\nrecall: {recall_value}\")\n",
    "print(recs['user_id'].unique().shape, recs['item_id'].unique().shape)"
   ]
  },
  {
   "cell_type": "code",
   "execution_count": 8,
   "metadata": {},
   "outputs": [
    {
     "name": "stdout",
     "output_type": "stream",
     "text": [
      "0\n",
      "iteration: 1, train RMSE: 32.63643061584835\n",
      "iteration: 2, train RMSE: 20.97752064861894\n",
      "iteration: 3, train RMSE: 15.358692204617606\n",
      "iteration: 4, train RMSE: 12.222319090980495\n",
      "iteration: 5, train RMSE: 10.345195727230246\n",
      "iteration: 6, train RMSE: 9.179100990780988\n",
      "iteration: 7, train RMSE: 8.463469465429258\n",
      "iteration: 8, train RMSE: 8.0254584501313\n",
      "iteration: 9, train RMSE: 7.754780434120566\n",
      "iteration: 10, train RMSE: 7.638859266426678\n",
      "precision: 0.005059203444564048\n",
      "recall: 0.019409706814137652\n",
      "(3716,) (1266,)\n",
      "CPU times: user 35.2 s, sys: 6.55 s, total: 41.7 s\n",
      "Wall time: 30.1 s\n"
     ]
    }
   ],
   "source": [
    "%%time\n",
    "# numba version\n",
    "from rectools.models import BayesProbMF_V3\n",
    "\n",
    "bpmf_model = BayesProbMF_V3(verbose=1, n_iters=10, n_feature=10, max_rating=100., min_rating=0., beta=2., beta_user=1., beta_item=2, seed=0)\n",
    "bpmf_model.fit(dataset)\n",
    "\n",
    "recs = bpmf_model.recommend(users=test_users, dataset=dataset, k=10, filter_viewed=False)\n",
    "\n",
    "precision = Precision(k=10)\n",
    "recall = Recall(k=10)\n",
    "\n",
    "precision_value = precision.calc(reco=recs , interactions=interactions_test)\n",
    "recall_value = recall.calc(reco=recs, interactions=interactions_test)\n",
    "print(f\"precision: {precision_value}\\nrecall: {recall_value}\")\n",
    "print(recs['user_id'].unique().shape, recs['item_id'].unique().shape)"
   ]
  },
  {
   "cell_type": "code",
   "execution_count": 9,
   "metadata": {},
   "outputs": [
    {
     "name": "stdout",
     "output_type": "stream",
     "text": [
      "0\n",
      "iteration: 1, train RMSE: 32.6528414471397\n",
      "iteration: 2, train RMSE: 20.986038963971325\n",
      "iteration: 3, train RMSE: 15.364408550399443\n",
      "iteration: 4, train RMSE: 12.226379768478182\n",
      "iteration: 5, train RMSE: 10.34858834578798\n",
      "iteration: 6, train RMSE: 9.176700265113903\n",
      "iteration: 7, train RMSE: 8.463590478698324\n",
      "iteration: 8, train RMSE: 8.023022442528267\n",
      "iteration: 9, train RMSE: 7.748493074484703\n",
      "iteration: 10, train RMSE: 7.642072223896064\n",
      "precision: 0.004843918191603875\n",
      "recall: 0.018478634871383317\n",
      "(3716,) (1269,)\n",
      "CPU times: user 36.6 s, sys: 6.73 s, total: 43.3 s\n",
      "Wall time: 31.7 s\n"
     ]
    }
   ],
   "source": [
    "%%time\n",
    "# numba version\n",
    "from rectools.models import BayesProbMF_V3\n",
    "\n",
    "bpmf_model = BayesProbMF_V3(verbose=1, n_iters=10, n_feature=10, max_rating=100., min_rating=0., beta=2., beta_user=1., beta_item=1., seed=0)\n",
    "bpmf_model.fit(dataset)\n",
    "\n",
    "recs = bpmf_model.recommend(users=test_users, dataset=dataset, k=10, filter_viewed=False)\n",
    "\n",
    "precision = Precision(k=10)\n",
    "recall = Recall(k=10)\n",
    "\n",
    "precision_value = precision.calc(reco=recs , interactions=interactions_test)\n",
    "recall_value = recall.calc(reco=recs, interactions=interactions_test)\n",
    "print(f\"precision: {precision_value}\\nrecall: {recall_value}\")\n",
    "print(recs['user_id'].unique().shape, recs['item_id'].unique().shape)"
   ]
  },
  {
   "cell_type": "code",
   "execution_count": 12,
   "metadata": {},
   "outputs": [
    {
     "name": "stdout",
     "output_type": "stream",
     "text": [
      "0\n",
      "iteration: 1, train RMSE: 32.671271559386724\n",
      "iteration: 2, train RMSE: 20.995375481357883\n",
      "iteration: 3, train RMSE: 15.370608005714807\n",
      "iteration: 4, train RMSE: 12.23062966318669\n",
      "iteration: 5, train RMSE: 10.35150709583589\n",
      "iteration: 6, train RMSE: 9.177147887208971\n",
      "iteration: 7, train RMSE: 8.463854692830614\n",
      "iteration: 8, train RMSE: 8.018383859423915\n",
      "iteration: 9, train RMSE: 7.741312539211905\n",
      "iteration: 10, train RMSE: 7.617317832599062\n",
      "precision: 0.004601722282023682\n",
      "recall: 0.018116713836537568\n",
      "(3716,) (1287,)\n",
      "CPU times: user 37 s, sys: 5.21 s, total: 42.2 s\n",
      "Wall time: 30.9 s\n"
     ]
    }
   ],
   "source": [
    "%%time\n",
    "# numba version\n",
    "from rectools.models import BayesProbMF_V3\n",
    "\n",
    "bpmf_model = BayesProbMF_V3(verbose=1, n_iters=10, n_feature=10, max_rating=100., min_rating=0., beta=2., beta_user=0.1, beta_item=0.1, seed=0)\n",
    "bpmf_model.fit(dataset)\n",
    "\n",
    "recs = bpmf_model.recommend(users=test_users, dataset=dataset, k=10, filter_viewed=False)\n",
    "\n",
    "precision = Precision(k=10)\n",
    "recall = Recall(k=10)\n",
    "\n",
    "precision_value = precision.calc(reco=recs , interactions=interactions_test)\n",
    "recall_value = recall.calc(reco=recs, interactions=interactions_test)\n",
    "print(f\"precision: {precision_value}\\nrecall: {recall_value}\")\n",
    "print(recs['user_id'].unique().shape, recs['item_id'].unique().shape)"
   ]
  },
  {
   "cell_type": "code",
   "execution_count": 15,
   "metadata": {},
   "outputs": [
    {
     "name": "stdout",
     "output_type": "stream",
     "text": [
      "0\n",
      "iteration: 1, train RMSE: 29.21672151897565\n",
      "iteration: 2, train RMSE: 19.575229969230563\n",
      "iteration: 3, train RMSE: 14.503785019263214\n",
      "iteration: 4, train RMSE: 11.628951407173313\n",
      "iteration: 5, train RMSE: 9.91941845521111\n",
      "iteration: 6, train RMSE: 8.874502745122413\n",
      "iteration: 7, train RMSE: 8.253395739473696\n",
      "iteration: 8, train RMSE: 7.917814642405132\n",
      "iteration: 9, train RMSE: 7.767509658805079\n",
      "iteration: 10, train RMSE: 7.734772266094451\n",
      "precision: 0.00842303552206674\n",
      "recall: 0.03182212208887856\n",
      "(3716,) (1248,)\n",
      "CPU times: user 34.3 s, sys: 6.46 s, total: 40.7 s\n",
      "Wall time: 29.4 s\n"
     ]
    }
   ],
   "source": [
    "%%time\n",
    "# numba version\n",
    "from rectools.models import BayesProbMF_V3\n",
    "\n",
    "bpmf_model = BayesProbMF_V3(verbose=1, n_iters=10, n_feature=10, max_rating=100., min_rating=0., beta=2., beta_user=2., beta_item=2., seed=0, mu0_user=10., mu0_item=0.)\n",
    "bpmf_model.fit(dataset)\n",
    "\n",
    "recs = bpmf_model.recommend(users=test_users, dataset=dataset, k=10, filter_viewed=False)\n",
    "\n",
    "precision = Precision(k=10)\n",
    "recall = Recall(k=10)\n",
    "\n",
    "precision_value = precision.calc(reco=recs , interactions=interactions_test)\n",
    "recall_value = recall.calc(reco=recs, interactions=interactions_test)\n",
    "print(f\"precision: {precision_value}\\nrecall: {recall_value}\")\n",
    "print(recs['user_id'].unique().shape, recs['item_id'].unique().shape)"
   ]
  },
  {
   "cell_type": "code",
   "execution_count": 17,
   "metadata": {},
   "outputs": [
    {
     "name": "stdout",
     "output_type": "stream",
     "text": [
      "0\n",
      "iteration: 1, train RMSE: 26.074060504539908\n",
      "iteration: 2, train RMSE: 18.016527656260216\n",
      "iteration: 3, train RMSE: 13.422139779497805\n",
      "iteration: 4, train RMSE: 10.761811371779006\n",
      "iteration: 5, train RMSE: 9.13516013297758\n",
      "iteration: 6, train RMSE: 8.11295700712859\n",
      "iteration: 7, train RMSE: 7.492409825865953\n",
      "iteration: 8, train RMSE: 7.131306630856232\n",
      "iteration: 9, train RMSE: 6.90914108679794\n",
      "iteration: 10, train RMSE: 6.801809913747666\n",
      "precision: 0.005086114101184068\n",
      "recall: 0.01858562489256749\n",
      "(3716,) (1232,)\n",
      "CPU times: user 33.6 s, sys: 6.41 s, total: 40 s\n",
      "Wall time: 28.7 s\n"
     ]
    }
   ],
   "source": [
    "%%time\n",
    "# numba version\n",
    "from rectools.models import BayesProbMF_V3\n",
    "\n",
    "bpmf_model = BayesProbMF_V3(verbose=1, n_iters=10, n_feature=10, max_rating=100., min_rating=0., beta=2., beta_user=2., beta_item=2., seed=0, mu0_user=10., mu0_item=10.)\n",
    "bpmf_model.fit(dataset)\n",
    "\n",
    "recs = bpmf_model.recommend(users=test_users, dataset=dataset, k=10, filter_viewed=False)\n",
    "\n",
    "precision = Precision(k=10)\n",
    "recall = Recall(k=10)\n",
    "\n",
    "precision_value = precision.calc(reco=recs , interactions=interactions_test)\n",
    "recall_value = recall.calc(reco=recs, interactions=interactions_test)\n",
    "print(f\"precision: {precision_value}\\nrecall: {recall_value}\")\n",
    "print(recs['user_id'].unique().shape, recs['item_id'].unique().shape)"
   ]
  },
  {
   "cell_type": "code",
   "execution_count": 18,
   "metadata": {},
   "outputs": [
    {
     "name": "stdout",
     "output_type": "stream",
     "text": [
      "0\n",
      "iteration: 1, train RMSE: 26.78916195958925\n",
      "iteration: 2, train RMSE: 18.38638882251181\n",
      "iteration: 3, train RMSE: 13.678975625034788\n",
      "iteration: 4, train RMSE: 10.968019971674012\n",
      "iteration: 5, train RMSE: 9.339069873753276\n",
      "iteration: 6, train RMSE: 8.324035457555842\n",
      "iteration: 7, train RMSE: 7.743784485280171\n",
      "iteration: 8, train RMSE: 7.434481827282865\n",
      "iteration: 9, train RMSE: 7.285398695082089\n",
      "iteration: 10, train RMSE: 7.212279540959219\n",
      "precision: 0.0060279870828848225\n",
      "recall: 0.022403373686444624\n",
      "(3716,) (1246,)\n",
      "CPU times: user 34.5 s, sys: 6.37 s, total: 40.8 s\n",
      "Wall time: 29.6 s\n"
     ]
    }
   ],
   "source": [
    "%%time\n",
    "# numba version\n",
    "from rectools.models import BayesProbMF_V3\n",
    "\n",
    "bpmf_model = BayesProbMF_V3(verbose=1, n_iters=10, n_feature=10, max_rating=100., min_rating=0., beta=2., beta_user=2., beta_item=2., seed=0, mu0_user=10., mu0_item=5.)\n",
    "bpmf_model.fit(dataset)\n",
    "\n",
    "recs = bpmf_model.recommend(users=test_users, dataset=dataset, k=10, filter_viewed=False)\n",
    "\n",
    "precision = Precision(k=10)\n",
    "recall = Recall(k=10)\n",
    "\n",
    "precision_value = precision.calc(reco=recs , interactions=interactions_test)\n",
    "recall_value = recall.calc(reco=recs, interactions=interactions_test)\n",
    "print(f\"precision: {precision_value}\\nrecall: {recall_value}\")\n",
    "print(recs['user_id'].unique().shape, recs['item_id'].unique().shape)"
   ]
  },
  {
   "cell_type": "code",
   "execution_count": 19,
   "metadata": {},
   "outputs": [
    {
     "name": "stdout",
     "output_type": "stream",
     "text": [
      "0\n",
      "iteration: 1, train RMSE: 29.21672151897565\n",
      "iteration: 2, train RMSE: 19.575229969230563\n",
      "iteration: 3, train RMSE: 14.503785019263214\n",
      "iteration: 4, train RMSE: 11.628951407173313\n",
      "iteration: 5, train RMSE: 9.91941845521111\n",
      "iteration: 6, train RMSE: 8.874502745122413\n",
      "iteration: 7, train RMSE: 8.253395739473696\n",
      "iteration: 8, train RMSE: 7.917814642405132\n",
      "iteration: 9, train RMSE: 7.767509658805079\n",
      "iteration: 10, train RMSE: 7.734772266094451\n",
      "iteration: 11, train RMSE: 7.760323759853407\n",
      "iteration: 12, train RMSE: 7.840583162333499\n",
      "iteration: 13, train RMSE: 7.942479296640077\n",
      "iteration: 14, train RMSE: 8.057678272950493\n",
      "iteration: 15, train RMSE: 8.182467291343647\n",
      "iteration: 16, train RMSE: 8.311039361132009\n",
      "iteration: 17, train RMSE: 8.4487231995727\n",
      "iteration: 18, train RMSE: 8.573616081250384\n",
      "iteration: 19, train RMSE: 8.708680393407546\n",
      "iteration: 20, train RMSE: 8.823642268576812\n",
      "iteration: 21, train RMSE: 8.926980207367524\n",
      "iteration: 22, train RMSE: 9.030519714006468\n",
      "iteration: 23, train RMSE: 9.125863604466316\n",
      "iteration: 24, train RMSE: 9.204863254424668\n",
      "iteration: 25, train RMSE: 9.288920824652116\n",
      "iteration: 26, train RMSE: 9.386614215742966\n",
      "iteration: 27, train RMSE: 9.467449234644938\n",
      "iteration: 28, train RMSE: 9.55128037126758\n",
      "iteration: 29, train RMSE: 9.625104741853951\n",
      "iteration: 30, train RMSE: 9.708018331465427\n",
      "iteration: 31, train RMSE: 9.780542626973197\n",
      "iteration: 32, train RMSE: 9.864036515816274\n",
      "iteration: 33, train RMSE: 9.935831024837467\n",
      "iteration: 34, train RMSE: 10.003185359015202\n",
      "iteration: 35, train RMSE: 10.072932201417055\n",
      "iteration: 36, train RMSE: 10.141470921207322\n",
      "iteration: 37, train RMSE: 10.18849899414598\n",
      "iteration: 38, train RMSE: 10.243341536145797\n",
      "iteration: 39, train RMSE: 10.293894125976694\n",
      "iteration: 40, train RMSE: 10.344936485661725\n",
      "iteration: 41, train RMSE: 10.389398348468314\n",
      "iteration: 42, train RMSE: 10.429701196483876\n",
      "iteration: 43, train RMSE: 10.473142326164258\n",
      "iteration: 44, train RMSE: 10.512426556491429\n",
      "iteration: 45, train RMSE: 10.549354852632883\n",
      "iteration: 46, train RMSE: 10.582461002680576\n",
      "iteration: 47, train RMSE: 10.612133798583404\n",
      "iteration: 48, train RMSE: 10.649425350508439\n",
      "iteration: 49, train RMSE: 10.685650421372504\n",
      "iteration: 50, train RMSE: 10.720157815950444\n",
      "precision: 0.005705059203444565\n",
      "recall: 0.021216102936324296\n",
      "(3716,) (1398,)\n",
      "CPU times: user 2min 55s, sys: 28.2 s, total: 3min 23s\n",
      "Wall time: 2min 33s\n"
     ]
    }
   ],
   "source": [
    "%%time\n",
    "# numba version\n",
    "from rectools.models import BayesProbMF_V3\n",
    "\n",
    "bpmf_model = BayesProbMF_V3(verbose=1, n_iters=50, n_feature=10, max_rating=100., min_rating=0., beta=2., beta_user=2., beta_item=2., seed=0, mu0_user=10., mu0_item=0.)\n",
    "bpmf_model.fit(dataset)\n",
    "\n",
    "recs = bpmf_model.recommend(users=test_users, dataset=dataset, k=10, filter_viewed=False)\n",
    "\n",
    "precision = Precision(k=10)\n",
    "recall = Recall(k=10)\n",
    "\n",
    "precision_value = precision.calc(reco=recs , interactions=interactions_test)\n",
    "recall_value = recall.calc(reco=recs, interactions=interactions_test)\n",
    "print(f\"precision: {precision_value}\\nrecall: {recall_value}\")\n",
    "print(recs['user_id'].unique().shape, recs['item_id'].unique().shape)"
   ]
  },
  {
   "cell_type": "code",
   "execution_count": 22,
   "metadata": {},
   "outputs": [
    {
     "name": "stdout",
     "output_type": "stream",
     "text": [
      "0\n",
      "iteration: 1, train RMSE: 27.736912571123167\n",
      "iteration: 2, train RMSE: 17.62599258970381\n",
      "iteration: 3, train RMSE: 12.984050296392224\n",
      "iteration: 4, train RMSE: 10.483048201686477\n",
      "iteration: 5, train RMSE: 9.007825364981574\n",
      "iteration: 6, train RMSE: 8.092197836682338\n",
      "iteration: 7, train RMSE: 7.574130929892149\n",
      "iteration: 8, train RMSE: 7.292846043741413\n",
      "iteration: 9, train RMSE: 7.153653870730035\n",
      "iteration: 10, train RMSE: 7.117144386024365\n",
      "precision: 0.006001076426264801\n",
      "recall: 0.022731263131883984\n",
      "(3716,) (1378,)\n",
      "CPU times: user 37.1 s, sys: 7.23 s, total: 44.4 s\n",
      "Wall time: 32.1 s\n"
     ]
    }
   ],
   "source": [
    "%%time\n",
    "# numba version\n",
    "from rectools.models import BayesProbMF_V3\n",
    "\n",
    "bpmf_model = BayesProbMF_V3(verbose=1, n_iters=10, n_feature=20, max_rating=100., min_rating=0., beta=2., beta_user=2., beta_item=2., seed=0, mu0_user=10., mu0_item=0.)\n",
    "bpmf_model.fit(dataset)\n",
    "\n",
    "recs = bpmf_model.recommend(users=test_users, dataset=dataset, k=10, filter_viewed=False)\n",
    "\n",
    "precision = Precision(k=10)\n",
    "recall = Recall(k=10)\n",
    "\n",
    "precision_value = precision.calc(reco=recs , interactions=interactions_test)\n",
    "recall_value = recall.calc(reco=recs, interactions=interactions_test)\n",
    "print(f\"precision: {precision_value}\\nrecall: {recall_value}\")\n",
    "print(recs['user_id'].unique().shape, recs['item_id'].unique().shape)"
   ]
  },
  {
   "cell_type": "code",
   "execution_count": null,
   "metadata": {},
   "outputs": [],
   "source": []
  },
  {
   "cell_type": "code",
   "execution_count": 8,
   "metadata": {},
   "outputs": [
    {
     "name": "stdout",
     "output_type": "stream",
     "text": [
      "iteration: 1, train RMSE: 32.63250719505038\n",
      "iteration: 2, train RMSE: 20.975747831859145\n",
      "iteration: 3, train RMSE: 15.35758388025496\n",
      "iteration: 4, train RMSE: 12.221639801814359\n",
      "iteration: 5, train RMSE: 10.344854840826153\n",
      "iteration: 6, train RMSE: 9.178165858001298\n",
      "iteration: 7, train RMSE: 8.463375237252245\n",
      "iteration: 8, train RMSE: 8.023760232113574\n",
      "iteration: 9, train RMSE: 7.747666811236417\n",
      "iteration: 10, train RMSE: 7.629712043681804\n",
      "precision: 0.004790096878363832\n",
      "recall: 0.018530246610991296\n",
      "(3716,) (1262,)\n",
      "CPU times: user 7min 27s, sys: 8min 25s, total: 15min 52s\n",
      "Wall time: 2min 13s\n"
     ]
    }
   ],
   "source": [
    "%%time\n",
    "from rectools.models import BayesProbMF_V2\n",
    "\n",
    "bpmf_model = BayesProbMF_V2(verbose=1, n_iters=10, n_feature=10, max_rating=100., min_rating=0., beta=2., beta_user=2., beta_item=2, seed=0)\n",
    "bpmf_model.fit(dataset)\n",
    "\n",
    "recs = bpmf_model.recommend(users=test_users, dataset=dataset, k=10, filter_viewed=False)\n",
    "\n",
    "precision = Precision(k=10)\n",
    "recall = Recall(k=10)\n",
    "\n",
    "precision_value = precision.calc(reco=recs, interactions=interactions_test)\n",
    "recall_value = recall.calc(reco=recs, interactions=interactions_test)\n",
    "print(f\"precision: {precision_value}\\nrecall: {recall_value}\")\n",
    "print(recs['user_id'].unique().shape, recs['item_id'].unique().shape)"
   ]
  },
  {
   "cell_type": "code",
   "execution_count": null,
   "metadata": {},
   "outputs": [],
   "source": []
  },
  {
   "cell_type": "code",
   "execution_count": 5,
   "metadata": {},
   "outputs": [
    {
     "name": "stdout",
     "output_type": "stream",
     "text": [
      "0\n",
      "_update_item_params --- 0.0016851425170898438 seconds ---\n",
      "_update_user_params --- 0.0013153553009033203 seconds ---\n"
     ]
    },
    {
     "name": "stdout",
     "output_type": "stream",
     "text": [
      "_udpate_item_features --- 2.236502170562744 seconds ---\n",
      "_update_user_features --- 0.25388550758361816 seconds ---\n",
      "_update_average_features --- 0.00035190582275390625 seconds ---\n",
      "iteration: 1, train RMSE: 35.58309304232626\n",
      "_update_item_params --- 0.001379251480102539 seconds ---\n",
      "_update_user_params --- 0.0011057853698730469 seconds ---\n",
      "_udpate_item_features --- 0.3350207805633545 seconds ---\n",
      "_update_user_features --- 0.24868297576904297 seconds ---\n",
      "_update_average_features --- 0.0003561973571777344 seconds ---\n",
      "iteration: 2, train RMSE: 22.60438741735845\n",
      "_update_item_params --- 0.0014882087707519531 seconds ---\n",
      "_update_user_params --- 0.0015611648559570312 seconds ---\n",
      "_udpate_item_features --- 0.32807040214538574 seconds ---\n",
      "_update_user_features --- 0.2336585521697998 seconds ---\n",
      "_update_average_features --- 0.0002827644348144531 seconds ---\n",
      "iteration: 3, train RMSE: 16.36181742125372\n",
      "_update_item_params --- 0.0014884471893310547 seconds ---\n",
      "_update_user_params --- 0.0012271404266357422 seconds ---\n",
      "_udpate_item_features --- 0.3168356418609619 seconds ---\n",
      "_update_user_features --- 0.2901294231414795 seconds ---\n",
      "_update_average_features --- 0.0004134178161621094 seconds ---\n",
      "iteration: 4, train RMSE: 12.910742616920924\n",
      "_update_item_params --- 0.0016601085662841797 seconds ---\n",
      "_update_user_params --- 0.0015153884887695312 seconds ---\n",
      "_udpate_item_features --- 0.33191823959350586 seconds ---\n",
      "_update_user_features --- 0.2505176067352295 seconds ---\n",
      "_update_average_features --- 0.0002701282501220703 seconds ---\n",
      "iteration: 5, train RMSE: 10.76652632504795\n",
      "_update_item_params --- 0.001191854476928711 seconds ---\n",
      "_update_user_params --- 0.0012547969818115234 seconds ---\n",
      "_udpate_item_features --- 0.33890819549560547 seconds ---\n",
      "_update_user_features --- 0.2789907455444336 seconds ---\n",
      "_update_average_features --- 0.00026535987854003906 seconds ---\n",
      "iteration: 6, train RMSE: 9.417690071372705\n",
      "_update_item_params --- 0.0011396408081054688 seconds ---\n",
      "_update_user_params --- 0.0016241073608398438 seconds ---\n",
      "_udpate_item_features --- 0.3340306282043457 seconds ---\n",
      "_update_user_features --- 0.2839181423187256 seconds ---\n",
      "_update_average_features --- 0.0002911090850830078 seconds ---\n",
      "iteration: 7, train RMSE: 8.58537867585739\n",
      "_update_item_params --- 0.0011906623840332031 seconds ---\n",
      "_update_user_params --- 0.0011928081512451172 seconds ---\n",
      "_udpate_item_features --- 0.324493408203125 seconds ---\n",
      "_update_user_features --- 0.3109726905822754 seconds ---\n",
      "_update_average_features --- 0.00028252601623535156 seconds ---\n",
      "iteration: 8, train RMSE: 8.087770197893896\n",
      "_update_item_params --- 0.0010578632354736328 seconds ---\n",
      "_update_user_params --- 0.001142740249633789 seconds ---\n",
      "_udpate_item_features --- 0.31291651725769043 seconds ---\n",
      "_update_user_features --- 0.26110291481018066 seconds ---\n",
      "_update_average_features --- 0.00031638145446777344 seconds ---\n",
      "iteration: 9, train RMSE: 7.832144700264199\n",
      "_update_item_params --- 0.0012040138244628906 seconds ---\n",
      "_update_user_params --- 0.0012259483337402344 seconds ---\n",
      "_udpate_item_features --- 0.3530869483947754 seconds ---\n",
      "_update_user_features --- 0.23098325729370117 seconds ---\n",
      "_update_average_features --- 0.0003178119659423828 seconds ---\n",
      "iteration: 10, train RMSE: 7.756341640128538\n",
      "precision: 0.0037249283667621777\n",
      "recall: 0.016427889207258836\n",
      "(349,) (259,)\n",
      "CPU times: user 12.1 s, sys: 5.35 s, total: 17.5 s\n",
      "Wall time: 8.05 s\n"
     ]
    }
   ],
   "source": [
    "%%time\n",
    "# numba version\n",
    "from rectools.models import BayesProbMF_V3\n",
    "\n",
    "bpmf_model = BayesProbMF_V3(verbose=1, n_iters=10, n_feature=10, max_rating=100., min_rating=0., beta=2., beta_user=2., beta_item=2, seed=0)\n",
    "bpmf_model.fit(dataset)\n",
    "\n",
    "recs = bpmf_model.recommend(users=test_users, dataset=dataset, k=10, filter_viewed=False)\n",
    "\n",
    "precision = Precision(k=10)\n",
    "recall = Recall(k=10)\n",
    "\n",
    "precision_value = precision.calc(reco=recs, interactions=interactions_test)\n",
    "recall_value = recall.calc(reco=recs, interactions=interactions_test)\n",
    "print(f\"precision: {precision_value}\\nrecall: {recall_value}\")\n",
    "print(recs['user_id'].unique().shape, recs['item_id'].unique().shape)"
   ]
  },
  {
   "cell_type": "code",
   "execution_count": null,
   "metadata": {},
   "outputs": [],
   "source": []
  },
  {
   "cell_type": "code",
   "execution_count": null,
   "metadata": {},
   "outputs": [],
   "source": []
  }
 ],
 "metadata": {
  "kernelspec": {
   "display_name": ".venv",
   "language": "python",
   "name": "python3"
  },
  "language_info": {
   "codemirror_mode": {
    "name": "ipython",
    "version": 3
   },
   "file_extension": ".py",
   "mimetype": "text/x-python",
   "name": "python",
   "nbconvert_exporter": "python",
   "pygments_lexer": "ipython3",
   "version": "3.10.12"
  }
 },
 "nbformat": 4,
 "nbformat_minor": 2
}
