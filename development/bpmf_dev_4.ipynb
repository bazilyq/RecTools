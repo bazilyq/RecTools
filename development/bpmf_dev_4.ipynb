{
 "cells": [
  {
   "cell_type": "code",
   "execution_count": 2,
   "metadata": {},
   "outputs": [
    {
     "name": "stderr",
     "output_type": "stream",
     "text": [
      "/home/bazilyq/Рабочий стол/work/RecTools/.venv/lib/python3.10/site-packages/tqdm/auto.py:21: TqdmWarning: IProgress not found. Please update jupyter and ipywidgets. See https://ipywidgets.readthedocs.io/en/stable/user_install.html\n",
      "  from .autonotebook import tqdm as notebook_tqdm\n"
     ]
    }
   ],
   "source": [
    "import pandas as pd\n",
    "from rectools import Columns\n",
    "from rectools.model_selection import TimeRangeSplitter\n",
    "from rectools.dataset import Dataset\n",
    "from rectools.models import PopularModel, PureSVDModel\n",
    "from rectools.metrics import Precision, Recall, MeanInvUserFreq, Serendipity, calc_metrics\n",
    "import numpy as np\n",
    "\n",
    "import matplotlib.pyplot as plt\n",
    "from matplotlib.pyplot import figure"
   ]
  },
  {
   "cell_type": "code",
   "execution_count": 3,
   "metadata": {},
   "outputs": [
    {
     "data": {
      "text/plain": [
       "(9646, 3273)"
      ]
     },
     "execution_count": 3,
     "metadata": {},
     "output_type": "execute_result"
    }
   ],
   "source": [
    "np.random.seed(0)\n",
    "DATA_PATH = '../datasets/KION/data/'\n",
    "users_df = pd.read_csv(DATA_PATH + 'users.csv',)\n",
    "items_df = pd.read_csv(DATA_PATH + 'items.csv',)\n",
    "interactions = pd.read_csv(DATA_PATH + 'interactions.csv')\n",
    "\n",
    "# interactions_train = interactions.query(\"last_watch_dt >= '2021-07-15' and last_watch_dt < '2021-08-16'\").copy()\n",
    "interactions_train = interactions.query(\"last_watch_dt >= '2021-08-10' and last_watch_dt < '2021-08-16'\").copy()\n",
    "interactions_test = interactions.query(\"last_watch_dt >= '2021-08-16'\").copy()\n",
    "\n",
    "sample_users = np.random.choice(interactions_train['user_id'].unique(), 10000)\n",
    "interactions_train = interactions_train[interactions_train['user_id'].isin(sample_users)]\n",
    "\n",
    "interactions_test = interactions_test.loc[\n",
    "    interactions_test[\"user_id\"].isin(interactions_train[\"user_id\"])\n",
    "    & interactions_test[\"item_id\"].isin(interactions_train[\"item_id\"])\n",
    "]\n",
    "\n",
    "interactions_train.fillna({\"watched_pct\": 1}, inplace=True)\n",
    "interactions_train['watched_pct'] = interactions_train['watched_pct'].astype(int)\n",
    "\n",
    "dataset = Dataset.construct(\n",
    "    interactions_df=interactions_train\n",
    "    .rename(\n",
    "        columns={\n",
    "            \"user_id\": Columns.User,\n",
    "            \"item_id\": Columns.Item,\n",
    "            \"last_watch_dt\": Columns.Datetime,\n",
    "            \"watched_pct\": Columns.Weight,\n",
    "        }\n",
    "    )\n",
    "    .reindex(columns=Columns.Interactions)\n",
    ")\n",
    "\n",
    "test_users = interactions_test[\"user_id\"].unique()\n",
    "test_users.size\n",
    "\n",
    "user_ext_to_int_map = dataset.user_id_map.to_internal.to_dict()\n",
    "item_int_to_ext_map = dataset.item_id_map.to_external.to_dict()\n",
    "\n",
    "ui_csr = dataset.get_user_item_matrix()\n",
    "ui_csr.shape"
   ]
  },
  {
   "cell_type": "code",
   "execution_count": 8,
   "metadata": {},
   "outputs": [
    {
     "name": "stdout",
     "output_type": "stream",
     "text": [
      "(9646, 10) (3273, 10)\n",
      "PureSVDModel\n",
      "precision: 0.01652314316469322\n",
      "recall: 0.06253695150651718 \n",
      "\n",
      "(3716,) (132,)\n"
     ]
    }
   ],
   "source": [
    "pure_svd_model = PureSVDModel(verbose=1)\n",
    "pure_svd_model.fit(dataset)\n",
    "\n",
    "recs = pure_svd_model.recommend(users=test_users, dataset=dataset, k=10, filter_viewed=False)\n",
    "\n",
    "precision = Precision(k=10)\n",
    "recall = Recall(k=10)\n",
    "\n",
    "precision_value = precision.calc(reco=recs, interactions=interactions_test)\n",
    "recall_value = recall.calc(reco=recs, interactions=interactions_test)\n",
    "print('PureSVDModel')\n",
    "print(f\"precision: {precision_value}\\nrecall: {recall_value}\", '\\n')\n",
    "print(recs['user_id'].unique().shape, recs['item_id'].unique().shape)"
   ]
  },
  {
   "cell_type": "code",
   "execution_count": 22,
   "metadata": {},
   "outputs": [
    {
     "data": {
      "text/plain": [
       "(132,)"
      ]
     },
     "execution_count": 22,
     "metadata": {},
     "output_type": "execute_result"
    }
   ],
   "source": [
    "pure_svd_model.recommend(users=test_users, dataset=dataset, k=10, filter_viewed=False)['item_id'].unique().shape"
   ]
  },
  {
   "cell_type": "code",
   "execution_count": 9,
   "metadata": {},
   "outputs": [
    {
     "name": "stdout",
     "output_type": "stream",
     "text": [
      "min value: -0.0024455583416477314, max value: 0.0026533179393691216\n",
      "Training RMSE at iteration  1  :    60.09\n",
      "min value: -0.0039617276286774, max value: 0.004125243458777759\n",
      "Training RMSE at iteration  2  :    60.09\n",
      "min value: -0.004909373005951863, max value: 0.005332568799885863\n",
      "Training RMSE at iteration  3  :    60.09\n",
      "min value: -0.005911882246311435, max value: 0.006779283320778503\n",
      "Training RMSE at iteration  4  :    60.09\n",
      "min value: -0.007238215246120349, max value: 0.007864754936255986\n",
      "Training RMSE at iteration  5  :    60.09\n",
      "min value: -0.011080706575510458, max value: 0.012785474194250596\n",
      "Training RMSE at iteration  6  :    60.09\n",
      "min value: -0.017364457238910697, max value: 0.021287460823806746\n",
      "Training RMSE at iteration  7  :    60.09\n",
      "min value: -0.03966894039839562, max value: 0.04063581541383577\n",
      "Training RMSE at iteration  8  :    60.09\n",
      "min value: -0.09285482042088951, max value: 0.1660720112593094\n",
      "Training RMSE at iteration  9  :    60.08\n",
      "min value: -0.7942675646674952, max value: 4.14215115750711\n",
      "precision: 0.024757804090419805\n",
      "recall: 0.1019630979503443\n"
     ]
    }
   ],
   "source": [
    "# добавлены гиперпараметры в конструктор\n",
    "from rectools.models import BayesProbMF\n",
    "\n",
    "T, D, initial_cutoff, lowest_rating, highest_rating = 10, 10, 0, 0, 100\n",
    "bpmf_model = BayesProbMF(verbose=1, T=T, D=D, initial_cutoff=initial_cutoff, lowest_rating=lowest_rating, highest_rating=highest_rating)\n",
    "bpmf_model.fit(dataset)\n",
    "\n",
    "recs = bpmf_model.recommend(users=test_users, dataset=dataset, k=10, filter_viewed=False)\n",
    "\n",
    "precision = Precision(k=10)\n",
    "recall = Recall(k=10)\n",
    "\n",
    "precision_value = precision.calc(reco=recs, interactions=interactions_test)\n",
    "recall_value = recall.calc(reco=recs, interactions=interactions_test)\n",
    "print(f\"precision: {precision_value}\\nrecall: {recall_value}\")"
   ]
  },
  {
   "cell_type": "code",
   "execution_count": 11,
   "metadata": {},
   "outputs": [
    {
     "data": {
      "text/plain": [
       "(-0.43142409615429583,\n",
       " 0.4277209530235401,\n",
       " -3.512299337370797,\n",
       " 3.218144013988817)"
      ]
     },
     "execution_count": 11,
     "metadata": {},
     "output_type": "execute_result"
    }
   ],
   "source": [
    "bpmf_model.user_factors.min(), bpmf_model.user_factors.max(), \\\n",
    "bpmf_model.item_factors.min(), bpmf_model.item_factors.max()"
   ]
  },
  {
   "cell_type": "code",
   "execution_count": 16,
   "metadata": {},
   "outputs": [
    {
     "data": {
      "text/plain": [
       "(1170,)"
      ]
     },
     "execution_count": 16,
     "metadata": {},
     "output_type": "execute_result"
    }
   ],
   "source": [
    "recs['item_id'].unique().shape"
   ]
  },
  {
   "cell_type": "code",
   "execution_count": null,
   "metadata": {},
   "outputs": [],
   "source": []
  },
  {
   "cell_type": "code",
   "execution_count": 4,
   "metadata": {},
   "outputs": [
    {
     "name": "stdout",
     "output_type": "stream",
     "text": [
      "iteration: 1, train RMSE: 32.886853674875546\n",
      "iteration: 2, train RMSE: 21.168039552554344\n",
      "iteration: 3, train RMSE: 15.51718382166318\n",
      "iteration: 4, train RMSE: 12.361803826521038\n",
      "iteration: 5, train RMSE: 10.408551866928988\n",
      "iteration: 6, train RMSE: 9.193664634369986\n",
      "iteration: 7, train RMSE: 8.440823998333657\n",
      "iteration: 8, train RMSE: 7.983437311026528\n",
      "iteration: 9, train RMSE: 7.728564067336887\n",
      "iteration: 10, train RMSE: 7.6100103601938915\n",
      "precision: 0.004198062432723359\n",
      "recall: 0.01704274251499529\n",
      "(3716,) (1239,)\n"
     ]
    }
   ],
   "source": [
    "from rectools.models import BayesProbMF_V2\n",
    "\n",
    "bpmf_model = BayesProbMF_V2(verbose=1, n_iters=10, n_feature=10, max_rating=100., min_rating=0., beta=2., beta_user=2., beta_item=2)\n",
    "bpmf_model.fit(dataset)\n",
    "\n",
    "recs = bpmf_model.recommend(users=test_users, dataset=dataset, k=10, filter_viewed=False)\n",
    "\n",
    "precision = Precision(k=10)\n",
    "recall = Recall(k=10)\n",
    "\n",
    "precision_value = precision.calc(reco=recs, interactions=interactions_test)\n",
    "recall_value = recall.calc(reco=recs, interactions=interactions_test)\n",
    "print(f\"precision: {precision_value}\\nrecall: {recall_value}\")\n",
    "print(recs['user_id'].unique().shape, recs['item_id'].unique().shape)"
   ]
  },
  {
   "cell_type": "code",
   "execution_count": null,
   "metadata": {},
   "outputs": [],
   "source": []
  }
 ],
 "metadata": {
  "kernelspec": {
   "display_name": ".venv",
   "language": "python",
   "name": "python3"
  },
  "language_info": {
   "codemirror_mode": {
    "name": "ipython",
    "version": 3
   },
   "file_extension": ".py",
   "mimetype": "text/x-python",
   "name": "python",
   "nbconvert_exporter": "python",
   "pygments_lexer": "ipython3",
   "version": "3.10.12"
  }
 },
 "nbformat": 4,
 "nbformat_minor": 2
}
