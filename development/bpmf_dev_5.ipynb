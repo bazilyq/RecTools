{
 "cells": [
  {
   "cell_type": "code",
   "execution_count": 2,
   "metadata": {},
   "outputs": [
    {
     "name": "stderr",
     "output_type": "stream",
     "text": [
      "/home/bazilyq/Рабочий стол/work/RecTools/.venv/lib/python3.10/site-packages/tqdm/auto.py:21: TqdmWarning: IProgress not found. Please update jupyter and ipywidgets. See https://ipywidgets.readthedocs.io/en/stable/user_install.html\n",
      "  from .autonotebook import tqdm as notebook_tqdm\n"
     ]
    }
   ],
   "source": [
    "import pandas as pd\n",
    "from rectools import Columns\n",
    "from rectools.model_selection import TimeRangeSplitter\n",
    "from rectools.dataset import Dataset\n",
    "from rectools.models import PopularModel, PureSVDModel\n",
    "from rectools.metrics import Precision, Recall, MeanInvUserFreq, Serendipity, calc_metrics\n",
    "import numpy as np\n",
    "\n",
    "import matplotlib.pyplot as plt\n",
    "from matplotlib.pyplot import figure"
   ]
  },
  {
   "cell_type": "code",
   "execution_count": 3,
   "metadata": {},
   "outputs": [
    {
     "data": {
      "text/plain": [
       "(997, 1438)"
      ]
     },
     "execution_count": 3,
     "metadata": {},
     "output_type": "execute_result"
    }
   ],
   "source": [
    "np.random.seed(0)\n",
    "DATA_PATH = '../datasets/KION/data/'\n",
    "users_df = pd.read_csv(DATA_PATH + 'users.csv',)\n",
    "items_df = pd.read_csv(DATA_PATH + 'items.csv',)\n",
    "interactions = pd.read_csv(DATA_PATH + 'interactions.csv')\n",
    "\n",
    "# interactions_train = interactions.query(\"last_watch_dt >= '2021-07-15' and last_watch_dt < '2021-08-16'\").copy()\n",
    "# interactions_train = interactions.query(\"last_watch_dt >= '2021-08-10' and last_watch_dt < '2021-08-16'\").copy()\n",
    "interactions_train = interactions.query(\"last_watch_dt >= '2021-07-15' and last_watch_dt < '2021-08-16'\").copy()\n",
    "# (9646, 3273)\n",
    "interactions_test = interactions.query(\"last_watch_dt >= '2021-08-16'\").copy()\n",
    "\n",
    "sample_users = np.random.choice(interactions_train['user_id'].unique(), 1000)\n",
    "interactions_train = interactions_train[interactions_train['user_id'].isin(sample_users)]\n",
    "\n",
    "interactions_test = interactions_test.loc[\n",
    "    interactions_test[\"user_id\"].isin(interactions_train[\"user_id\"])\n",
    "    & interactions_test[\"item_id\"].isin(interactions_train[\"item_id\"])\n",
    "]\n",
    "\n",
    "interactions_train.fillna({\"watched_pct\": 1}, inplace=True)\n",
    "interactions_train['watched_pct'] = interactions_train['watched_pct'].astype(int)\n",
    "\n",
    "dataset = Dataset.construct(\n",
    "    interactions_df=interactions_train\n",
    "    .rename(\n",
    "        columns={\n",
    "            \"user_id\": Columns.User,\n",
    "            \"item_id\": Columns.Item,\n",
    "            \"last_watch_dt\": Columns.Datetime,\n",
    "            \"watched_pct\": Columns.Weight,\n",
    "        }\n",
    "    )\n",
    "    .reindex(columns=Columns.Interactions)\n",
    ")\n",
    "\n",
    "test_users = interactions_test[\"user_id\"].unique()\n",
    "test_users.size\n",
    "\n",
    "user_ext_to_int_map = dataset.user_id_map.to_internal.to_dict()\n",
    "item_int_to_ext_map = dataset.item_id_map.to_external.to_dict()\n",
    "\n",
    "ui_csr = dataset.get_user_item_matrix()\n",
    "ui_csr.shape"
   ]
  },
  {
   "cell_type": "code",
   "execution_count": 4,
   "metadata": {},
   "outputs": [
    {
     "name": "stdout",
     "output_type": "stream",
     "text": [
      "iteration: 1, train RMSE: 35.600951958687276\n",
      "iteration: 2, train RMSE: 22.605953240465332\n",
      "iteration: 3, train RMSE: 16.410673982659965\n",
      "iteration: 4, train RMSE: 12.96070450345643\n",
      "iteration: 5, train RMSE: 10.84119243821546\n",
      "iteration: 6, train RMSE: 9.493806481368287\n",
      "iteration: 7, train RMSE: 8.740212965322337\n",
      "iteration: 8, train RMSE: 8.308433696459307\n",
      "iteration: 9, train RMSE: 8.047001377090385\n",
      "iteration: 10, train RMSE: 7.980250005138647\n",
      "iteration: 11, train RMSE: 7.950013461893248\n",
      "iteration: 12, train RMSE: 8.015180060981162\n",
      "iteration: 13, train RMSE: 8.143045590422387\n",
      "iteration: 14, train RMSE: 8.294917319489405\n",
      "iteration: 15, train RMSE: 8.437511356805063\n",
      "iteration: 16, train RMSE: 8.501827556762388\n",
      "iteration: 17, train RMSE: 8.61754297027165\n",
      "iteration: 18, train RMSE: 8.790811171048066\n",
      "iteration: 19, train RMSE: 8.911039399763153\n",
      "iteration: 20, train RMSE: 9.065672687974677\n",
      "precision: 0.0029126213592233015\n",
      "recall: 0.011650485436893204\n",
      "(206,) (398,)\n"
     ]
    }
   ],
   "source": [
    "from rectools.models import BayesProbMF_V2\n",
    "\n",
    "bpmf_model = BayesProbMF_V2(verbose=1, n_iters=20, n_feature=10, max_rating=100., min_rating=0., beta=2., beta_user=2., beta_item=2)\n",
    "bpmf_model.fit(dataset)\n",
    "\n",
    "recs = bpmf_model.recommend(users=test_users, dataset=dataset, k=10, filter_viewed=False)\n",
    "\n",
    "precision = Precision(k=10)\n",
    "recall = Recall(k=10)\n",
    "\n",
    "precision_value = precision.calc(reco=recs, interactions=interactions_test)\n",
    "recall_value = recall.calc(reco=recs, interactions=interactions_test)\n",
    "print(f\"precision: {precision_value}\\nrecall: {recall_value}\")\n",
    "print(recs['user_id'].unique().shape, recs['item_id'].unique().shape)"
   ]
  },
  {
   "cell_type": "code",
   "execution_count": 7,
   "metadata": {},
   "outputs": [
    {
     "name": "stdout",
     "output_type": "stream",
     "text": [
      "iteration: 1, train RMSE: 29.511610105457418\n",
      "iteration: 2, train RMSE: 20.577874176492877\n",
      "iteration: 3, train RMSE: 16.883849166245387\n",
      "iteration: 4, train RMSE: 14.970765433845147\n",
      "iteration: 5, train RMSE: 13.835454943044821\n",
      "iteration: 6, train RMSE: 13.093516702980299\n",
      "iteration: 7, train RMSE: 12.574120754855697\n",
      "iteration: 8, train RMSE: 12.191131194644743\n",
      "iteration: 9, train RMSE: 11.897390043462655\n",
      "iteration: 10, train RMSE: 11.665619152878032\n",
      "iteration: 11, train RMSE: 11.474864713901207\n",
      "iteration: 12, train RMSE: 11.317848379816517\n",
      "iteration: 13, train RMSE: 11.18396395939861\n",
      "iteration: 14, train RMSE: 11.069361260133444\n",
      "iteration: 15, train RMSE: 10.970702947557829\n",
      "iteration: 16, train RMSE: 10.883415449071185\n",
      "iteration: 17, train RMSE: 10.805414014811705\n",
      "iteration: 18, train RMSE: 10.737164165728798\n",
      "iteration: 19, train RMSE: 10.675300709458448\n",
      "iteration: 20, train RMSE: 10.6185440342381\n",
      "precision: 0.0001463907117617365\n",
      "recall: 0.000314029136579675\n",
      "(19810,) (897,)\n"
     ]
    }
   ],
   "source": [
    "from rectools.models import BayesProbMF_V2\n",
    "\n",
    "bpmf_model = BayesProbMF_V2(verbose=1, n_iters=20, n_feature=10, max_rating=100., min_rating=0., beta=2., beta_user=2., beta_item=2)\n",
    "bpmf_model.fit(dataset)\n",
    "\n",
    "recs = bpmf_model.recommend(users=test_users, dataset=dataset, k=10, filter_viewed=False)\n",
    "\n",
    "precision = Precision(k=10)\n",
    "recall = Recall(k=10)\n",
    "\n",
    "precision_value = precision.calc(reco=recs, interactions=interactions_test)\n",
    "recall_value = recall.calc(reco=recs, interactions=interactions_test)\n",
    "print(f\"precision: {precision_value}\\nrecall: {recall_value}\")\n",
    "print(recs['user_id'].unique().shape, recs['item_id'].unique().shape)"
   ]
  },
  {
   "cell_type": "code",
   "execution_count": 8,
   "metadata": {},
   "outputs": [
    {
     "name": "stdout",
     "output_type": "stream",
     "text": [
      "iteration: 1, train RMSE: 27.042942275519078\n",
      "iteration: 2, train RMSE: 16.36048312548672\n",
      "iteration: 3, train RMSE: 12.134469263751907\n",
      "iteration: 4, train RMSE: 9.928110233608209\n",
      "iteration: 5, train RMSE: 8.618490795468169\n",
      "iteration: 6, train RMSE: 7.78364385443915\n",
      "iteration: 7, train RMSE: 7.222086914379448\n",
      "iteration: 8, train RMSE: 6.832077948351645\n",
      "iteration: 9, train RMSE: 6.553814572453235\n",
      "iteration: 10, train RMSE: 6.34849079597141\n",
      "iteration: 11, train RMSE: 6.195956935483202\n",
      "iteration: 12, train RMSE: 6.078028457432925\n",
      "iteration: 13, train RMSE: 5.987387383473297\n",
      "iteration: 14, train RMSE: 5.91409254029425\n",
      "iteration: 15, train RMSE: 5.857732081443643\n",
      "iteration: 16, train RMSE: 5.813297609655142\n",
      "iteration: 17, train RMSE: 5.776826576374663\n",
      "iteration: 18, train RMSE: 5.747169880476732\n",
      "iteration: 19, train RMSE: 5.723884839612709\n",
      "iteration: 20, train RMSE: 5.706124342645071\n",
      "iteration: 21, train RMSE: 5.693482871788108\n",
      "iteration: 22, train RMSE: 5.682286786947262\n",
      "iteration: 23, train RMSE: 5.672047283019635\n",
      "iteration: 24, train RMSE: 5.663153004232223\n",
      "iteration: 25, train RMSE: 5.656666570018999\n",
      "iteration: 26, train RMSE: 5.652787966018862\n",
      "iteration: 27, train RMSE: 5.647957995790055\n",
      "iteration: 28, train RMSE: 5.6460068516884885\n",
      "iteration: 29, train RMSE: 5.6437583804237885\n",
      "iteration: 30, train RMSE: 5.640367238764285\n",
      "precision: 0.00036850075719333674\n",
      "recall: 0.0012484250288297624\n",
      "(19810,) (3855,)\n"
     ]
    }
   ],
   "source": [
    "from rectools.models import BayesProbMF_V2\n",
    "\n",
    "bpmf_model = BayesProbMF_V2(verbose=1, n_iters=30, n_feature=20, max_rating=100., min_rating=0., beta=2., beta_user=2., beta_item=2)\n",
    "bpmf_model.fit(dataset)\n",
    "\n",
    "recs = bpmf_model.recommend(users=test_users, dataset=dataset, k=10, filter_viewed=False)\n",
    "\n",
    "precision = Precision(k=10)\n",
    "recall = Recall(k=10)\n",
    "\n",
    "precision_value = precision.calc(reco=recs, interactions=interactions_test)\n",
    "recall_value = recall.calc(reco=recs, interactions=interactions_test)\n",
    "print(f\"precision: {precision_value}\\nrecall: {recall_value}\")\n",
    "print(recs['user_id'].unique().shape, recs['item_id'].unique().shape)"
   ]
  },
  {
   "cell_type": "code",
   "execution_count": 3,
   "metadata": {},
   "outputs": [
    {
     "name": "stderr",
     "output_type": "stream",
     "text": [
      "100%|██████████| 3716/3716 [00:00<00:00, 152433.63it/s]"
     ]
    },
    {
     "name": "stdout",
     "output_type": "stream",
     "text": [
      "PopularModel\n",
      "precision: 0.03789020452099032\n",
      "recall: 0.16584749259909268 \n",
      "\n"
     ]
    },
    {
     "name": "stderr",
     "output_type": "stream",
     "text": [
      "\n"
     ]
    }
   ],
   "source": [
    "pure_svd_model = PopularModel(verbose=1)\n",
    "pure_svd_model.fit(dataset)\n",
    "\n",
    "recs = pure_svd_model.recommend(users=test_users, dataset=dataset, k=10, filter_viewed=False)\n",
    "\n",
    "precision = Precision(k=10)\n",
    "recall = Recall(k=10)\n",
    "\n",
    "precision_value = precision.calc(reco=recs, interactions=interactions_test)\n",
    "recall_value = recall.calc(reco=recs, interactions=interactions_test)\n",
    "print('PopularModel')\n",
    "print(f\"precision: {precision_value}\\nrecall: {recall_value}\", '\\n')"
   ]
  },
  {
   "cell_type": "code",
   "execution_count": 5,
   "metadata": {},
   "outputs": [
    {
     "name": "stdout",
     "output_type": "stream",
     "text": [
      "PureSVDModel\n",
      "precision: 0.016442411194833154\n",
      "recall: 0.06239342800454374 \n",
      "\n",
      "(3716,) (112,)\n"
     ]
    }
   ],
   "source": [
    "pure_svd_model = PureSVDModel(verbose=1)\n",
    "pure_svd_model.fit(dataset)\n",
    "\n",
    "recs = pure_svd_model.recommend(users=test_users, dataset=dataset, k=10, filter_viewed=False)\n",
    "\n",
    "precision = Precision(k=10)\n",
    "recall = Recall(k=10)\n",
    "\n",
    "precision_value = precision.calc(reco=recs, interactions=interactions_test)\n",
    "recall_value = recall.calc(reco=recs, interactions=interactions_test)\n",
    "print('PureSVDModel')\n",
    "print(f\"precision: {precision_value}\\nrecall: {recall_value}\", '\\n')\n",
    "print(recs['user_id'].unique().shape, recs['item_id'].unique().shape)"
   ]
  },
  {
   "cell_type": "code",
   "execution_count": 1,
   "metadata": {},
   "outputs": [],
   "source": [
    "# # добавлены гиперпараметры в конструктор\n",
    "# from rectools.models import BayesProbMF_V2\n",
    "\n",
    "# T, D, initial_cutoff, lowest_rating, highest_rating = 3, 10, 0, 0, 100\n",
    "# bpmf_model = BayesProbMF_V2(verbose=1, T=T, D=D, initial_cutoff=initial_cutoff, lowest_rating=lowest_rating, highest_rating=highest_rating)\n",
    "# bpmf_model.fit(dataset)\n",
    "\n",
    "# recs = bpmf_model.recommend(users=test_users, dataset=dataset, k=10, filter_viewed=False)\n",
    "\n",
    "# precision = Precision(k=10)\n",
    "# recall = Recall(k=10)\n",
    "\n",
    "# precision_value = precision.calc(reco=recs, interactions=interactions_test)\n",
    "# recall_value = recall.calc(reco=recs, interactions=interactions_test)\n",
    "# print(f\"precision: {precision_value}\\nrecall: {recall_value}\")"
   ]
  },
  {
   "cell_type": "code",
   "execution_count": 8,
   "metadata": {},
   "outputs": [
    {
     "name": "stdout",
     "output_type": "stream",
     "text": [
      "0\n",
      "iteration: 1, train RMSE: 32.63250719505038\n",
      "1\n",
      "iteration: 2, train RMSE: 20.975747831859152\n",
      "2\n",
      "iteration: 3, train RMSE: 15.3575838802549\n",
      "3\n",
      "iteration: 4, train RMSE: 12.221639801814241\n",
      "4\n",
      "iteration: 5, train RMSE: 10.344854840825892\n",
      "5\n",
      "iteration: 6, train RMSE: 9.178165858001162\n",
      "6\n",
      "iteration: 7, train RMSE: 8.463375237254349\n",
      "7\n",
      "iteration: 8, train RMSE: 8.02376023211319\n",
      "8\n",
      "iteration: 9, train RMSE: 7.74766681126756\n",
      "9\n",
      "iteration: 10, train RMSE: 7.629712043753078\n",
      "precision: 0.004790096878363832\n",
      "recall: 0.018530246610991296\n"
     ]
    }
   ],
   "source": [
    "# добавлены гиперпараметры в конструктор\n",
    "from rectools.models import BayesProbMF_V2\n",
    "\n",
    "bpmf_model = BayesProbMF_V2(verbose=1, n_iters=10, n_feature=10, max_rating=100., min_rating=0.)\n",
    "bpmf_model.fit(dataset)\n",
    "\n",
    "recs = bpmf_model.recommend(users=test_users, dataset=dataset, k=10, filter_viewed=False)\n",
    "\n",
    "precision = Precision(k=10)\n",
    "recall = Recall(k=10)\n",
    "\n",
    "precision_value = precision.calc(reco=recs, interactions=interactions_test)\n",
    "recall_value = recall.calc(reco=recs, interactions=interactions_test)\n",
    "print(f\"precision: {precision_value}\\nrecall: {recall_value}\")"
   ]
  },
  {
   "cell_type": "code",
   "execution_count": 9,
   "metadata": {},
   "outputs": [
    {
     "name": "stdout",
     "output_type": "stream",
     "text": [
      "0\n",
      "iteration: 1, train RMSE: 35.308919376284116\n",
      "1\n",
      "iteration: 2, train RMSE: 27.500595515711737\n",
      "2\n",
      "iteration: 3, train RMSE: 21.224229555684182\n",
      "3\n",
      "iteration: 4, train RMSE: 17.18039744988234\n",
      "4\n",
      "iteration: 5, train RMSE: 14.485652850553663\n",
      "5\n",
      "iteration: 6, train RMSE: 12.631019976048803\n",
      "6\n",
      "iteration: 7, train RMSE: 11.316196737176112\n",
      "7\n",
      "iteration: 8, train RMSE: 10.366950901158669\n",
      "8\n",
      "iteration: 9, train RMSE: 9.678874616704261\n",
      "9\n",
      "iteration: 10, train RMSE: 9.203263346366159\n",
      "precision: 0.0015608180839612488\n",
      "recall: 0.0059296736439299605\n"
     ]
    }
   ],
   "source": [
    "# добавлены гиперпараметры в конструктор\n",
    "from rectools.models import BayesProbMF_V2\n",
    "\n",
    "bpmf_model = BayesProbMF_V2(verbose=1, n_iters=10, n_feature=10, max_rating=100., min_rating=0., beta=1.)\n",
    "bpmf_model.fit(dataset)\n",
    "\n",
    "recs = bpmf_model.recommend(users=test_users, dataset=dataset, k=10, filter_viewed=False)\n",
    "\n",
    "precision = Precision(k=10)\n",
    "recall = Recall(k=10)\n",
    "\n",
    "precision_value = precision.calc(reco=recs, interactions=interactions_test)\n",
    "recall_value = recall.calc(reco=recs, interactions=interactions_test)\n",
    "print(f\"precision: {precision_value}\\nrecall: {recall_value}\")"
   ]
  },
  {
   "cell_type": "code",
   "execution_count": 10,
   "metadata": {},
   "outputs": [
    {
     "name": "stdout",
     "output_type": "stream",
     "text": [
      "0\n",
      "iteration: 1, train RMSE: 32.16026481729534\n",
      "1\n",
      "iteration: 2, train RMSE: 20.14693902464928\n",
      "2\n",
      "iteration: 3, train RMSE: 14.678100737929086\n",
      "3\n",
      "iteration: 4, train RMSE: 11.67148959356015\n",
      "4\n",
      "iteration: 5, train RMSE: 9.899269947033066\n",
      "5\n",
      "iteration: 6, train RMSE: 8.814875873294312\n",
      "6\n",
      "iteration: 7, train RMSE: 8.178758331706927\n",
      "7\n",
      "iteration: 8, train RMSE: 7.80730213623482\n",
      "8\n",
      "iteration: 9, train RMSE: 7.607312702657746\n",
      "9\n",
      "iteration: 10, train RMSE: 7.579424454481529\n",
      "precision: 0.0035522066738428427\n",
      "recall: 0.013622930572093177\n"
     ]
    }
   ],
   "source": [
    "# добавлены гиперпараметры в конструктор\n",
    "from rectools.models import BayesProbMF_V2\n",
    "\n",
    "bpmf_model = BayesProbMF_V2(verbose=1, n_iters=10, n_feature=10, max_rating=100., min_rating=0., beta=2.2)\n",
    "bpmf_model.fit(dataset)\n",
    "\n",
    "recs = bpmf_model.recommend(users=test_users, dataset=dataset, k=10, filter_viewed=False)\n",
    "\n",
    "precision = Precision(k=10)\n",
    "recall = Recall(k=10)\n",
    "\n",
    "precision_value = precision.calc(reco=recs, interactions=interactions_test)\n",
    "recall_value = recall.calc(reco=recs, interactions=interactions_test)\n",
    "print(f\"precision: {precision_value}\\nrecall: {recall_value}\")"
   ]
  },
  {
   "cell_type": "code",
   "execution_count": 9,
   "metadata": {},
   "outputs": [
    {
     "name": "stdout",
     "output_type": "stream",
     "text": [
      "0\n",
      "iteration: 1, train RMSE: 32.63643061584835\n",
      "1\n",
      "iteration: 2, train RMSE: 20.977520648618935\n",
      "2\n",
      "iteration: 3, train RMSE: 15.358692204617569\n",
      "3\n",
      "iteration: 4, train RMSE: 12.222319090980443\n",
      "4\n",
      "iteration: 5, train RMSE: 10.345195727230491\n",
      "5\n",
      "iteration: 6, train RMSE: 9.17910099078167\n",
      "6\n",
      "iteration: 7, train RMSE: 8.46346946543157\n",
      "7\n",
      "iteration: 8, train RMSE: 8.025458450130047\n",
      "8\n",
      "iteration: 9, train RMSE: 7.754780434115413\n",
      "9\n",
      "iteration: 10, train RMSE: 7.638859266392929\n",
      "precision: 0.005059203444564048\n",
      "recall: 0.019409706814137652\n"
     ]
    }
   ],
   "source": [
    "# добавлены гиперпараметры в конструктор\n",
    "from rectools.models import BayesProbMF_V2\n",
    "\n",
    "bpmf_model = BayesProbMF_V2(verbose=1, n_iters=10, n_feature=10, max_rating=100., min_rating=0., beta=2., beta_user=1.)\n",
    "bpmf_model.fit(dataset)\n",
    "\n",
    "recs = bpmf_model.recommend(users=test_users, dataset=dataset, k=10, filter_viewed=False)\n",
    "\n",
    "precision = Precision(k=10)\n",
    "recall = Recall(k=10)\n",
    "\n",
    "precision_value = precision.calc(reco=recs, interactions=interactions_test)\n",
    "recall_value = recall.calc(reco=recs, interactions=interactions_test)\n",
    "print(f\"precision: {precision_value}\\nrecall: {recall_value}\")"
   ]
  },
  {
   "cell_type": "code",
   "execution_count": 10,
   "metadata": {},
   "outputs": [
    {
     "name": "stdout",
     "output_type": "stream",
     "text": [
      "0\n",
      "iteration: 1, train RMSE: 32.64891864474101\n",
      "1\n",
      "iteration: 2, train RMSE: 20.984261781122452\n",
      "2\n",
      "iteration: 3, train RMSE: 15.363286467441263\n",
      "3\n",
      "iteration: 4, train RMSE: 12.225675878795629\n",
      "4\n",
      "iteration: 5, train RMSE: 10.348125114584198\n",
      "5\n",
      "iteration: 6, train RMSE: 9.177535977923805\n",
      "6\n",
      "iteration: 7, train RMSE: 8.466390222408556\n",
      "7\n",
      "iteration: 8, train RMSE: 8.029596722635674\n",
      "8\n",
      "iteration: 9, train RMSE: 7.752473033282968\n",
      "9\n",
      "iteration: 10, train RMSE: 7.6431118244884875\n",
      "precision: 0.00476318622174381\n",
      "recall: 0.01797356070546841\n"
     ]
    }
   ],
   "source": [
    "# добавлены гиперпараметры в конструктор\n",
    "from rectools.models import BayesProbMF_V2\n",
    "\n",
    "bpmf_model = BayesProbMF_V2(verbose=1, n_iters=10, n_feature=10, max_rating=100., min_rating=0., beta=2., beta_item=1.)\n",
    "bpmf_model.fit(dataset)\n",
    "\n",
    "recs = bpmf_model.recommend(users=test_users, dataset=dataset, k=10, filter_viewed=False)\n",
    "\n",
    "precision = Precision(k=10)\n",
    "recall = Recall(k=10)\n",
    "\n",
    "precision_value = precision.calc(reco=recs, interactions=interactions_test)\n",
    "recall_value = recall.calc(reco=recs, interactions=interactions_test)\n",
    "print(f\"precision: {precision_value}\\nrecall: {recall_value}\")"
   ]
  },
  {
   "cell_type": "code",
   "execution_count": 11,
   "metadata": {},
   "outputs": [
    {
     "name": "stdout",
     "output_type": "stream",
     "text": [
      "0\n",
      "iteration: 1, train RMSE: 32.6528414471397\n",
      "1\n",
      "iteration: 2, train RMSE: 20.98603896397132\n",
      "2\n",
      "iteration: 3, train RMSE: 15.364408550399405\n",
      "3\n",
      "iteration: 4, train RMSE: 12.226379768478088\n",
      "4\n",
      "iteration: 5, train RMSE: 10.348588345787574\n",
      "5\n",
      "iteration: 6, train RMSE: 9.176700265114642\n",
      "6\n",
      "iteration: 7, train RMSE: 8.463590478693886\n",
      "7\n",
      "iteration: 8, train RMSE: 8.023022442534746\n",
      "8\n",
      "iteration: 9, train RMSE: 7.748493074490809\n",
      "9\n",
      "iteration: 10, train RMSE: 7.642072223849097\n",
      "precision: 0.004843918191603875\n",
      "recall: 0.018478634871383317\n"
     ]
    }
   ],
   "source": [
    "# добавлены гиперпараметры в конструктор\n",
    "from rectools.models import BayesProbMF_V2\n",
    "\n",
    "bpmf_model = BayesProbMF_V2(verbose=1, n_iters=10, n_feature=10, max_rating=100., min_rating=0., beta=2., beta_user=1., beta_item=1.)\n",
    "bpmf_model.fit(dataset)\n",
    "\n",
    "recs = bpmf_model.recommend(users=test_users, dataset=dataset, k=10, filter_viewed=False)\n",
    "\n",
    "precision = Precision(k=10)\n",
    "recall = Recall(k=10)\n",
    "\n",
    "precision_value = precision.calc(reco=recs, interactions=interactions_test)\n",
    "recall_value = recall.calc(reco=recs, interactions=interactions_test)\n",
    "print(f\"precision: {precision_value}\\nrecall: {recall_value}\")"
   ]
  },
  {
   "cell_type": "code",
   "execution_count": 13,
   "metadata": {},
   "outputs": [
    {
     "name": "stdout",
     "output_type": "stream",
     "text": [
      "0\n",
      "iteration: 1, train RMSE: 32.6528414471397\n",
      "1\n",
      "iteration: 2, train RMSE: 20.98603896397132\n",
      "2\n",
      "iteration: 3, train RMSE: 15.364408550399405\n",
      "3\n",
      "iteration: 4, train RMSE: 12.226379768478088\n",
      "4\n",
      "iteration: 5, train RMSE: 10.348588345787574\n",
      "5\n",
      "iteration: 6, train RMSE: 9.176700265114642\n",
      "6\n",
      "iteration: 7, train RMSE: 8.463590478693886\n",
      "7\n",
      "iteration: 8, train RMSE: 8.023022442534746\n",
      "8\n",
      "iteration: 9, train RMSE: 7.748493074490809\n",
      "9\n",
      "iteration: 10, train RMSE: 7.642072223849097\n",
      "10\n",
      "iteration: 11, train RMSE: 7.633995354892715\n",
      "11\n",
      "iteration: 12, train RMSE: 7.669829441069797\n",
      "12\n",
      "iteration: 13, train RMSE: 7.732383034828779\n",
      "13\n",
      "iteration: 14, train RMSE: 7.843592927469596\n",
      "14\n",
      "iteration: 15, train RMSE: 7.945400898654401\n",
      "15\n",
      "iteration: 16, train RMSE: 8.073667403215412\n",
      "16\n",
      "iteration: 17, train RMSE: 8.21308817265869\n",
      "17\n",
      "iteration: 18, train RMSE: 8.331650061033008\n",
      "18\n",
      "iteration: 19, train RMSE: 8.439179945357509\n",
      "19\n",
      "iteration: 20, train RMSE: 8.539930188128377\n",
      "20\n",
      "iteration: 21, train RMSE: 8.643861706026847\n",
      "21\n",
      "iteration: 22, train RMSE: 8.751412492764254\n",
      "22\n",
      "iteration: 23, train RMSE: 8.867312695388648\n",
      "23\n",
      "iteration: 24, train RMSE: 8.968457458958019\n",
      "24\n",
      "iteration: 25, train RMSE: 9.059769732281156\n",
      "precision: 0.00403659849300323\n",
      "recall: 0.015365264302964048\n"
     ]
    }
   ],
   "source": [
    "# добавлены гиперпараметры в конструктор\n",
    "from rectools.models import BayesProbMF_V2\n",
    "\n",
    "bpmf_model = BayesProbMF_V2(verbose=1, n_iters=25, n_feature=10, max_rating=100., min_rating=0., beta=2., beta_user=1., beta_item=1.)\n",
    "bpmf_model.fit(dataset)\n",
    "\n",
    "recs = bpmf_model.recommend(users=test_users, dataset=dataset, k=10, filter_viewed=False)\n",
    "\n",
    "precision = Precision(k=10)\n",
    "recall = Recall(k=10)\n",
    "\n",
    "precision_value = precision.calc(reco=recs, interactions=interactions_test)\n",
    "recall_value = recall.calc(reco=recs, interactions=interactions_test)\n",
    "print(f\"precision: {precision_value}\\nrecall: {recall_value}\")"
   ]
  },
  {
   "cell_type": "code",
   "execution_count": 10,
   "metadata": {},
   "outputs": [
    {
     "name": "stdout",
     "output_type": "stream",
     "text": [
      "9646 3273\n",
      "9646 3273\n",
      "0\n",
      "1\n",
      "2\n",
      "3\n",
      "4\n",
      "precision: 0.003659849300322928\n",
      "recall: 0.013941019110395868\n"
     ]
    }
   ],
   "source": [
    "# добавлены гиперпараметры в конструктор\n",
    "from rectools.models import BayesProbMF_V2\n",
    "\n",
    "T, D, initial_cutoff, lowest_rating, highest_rating = 5, 10, 0, 0, 100\n",
    "bpmf_model = BayesProbMF_V2(verbose=1, T=T, D=D, initial_cutoff=initial_cutoff, lowest_rating=lowest_rating, highest_rating=highest_rating)\n",
    "bpmf_model.fit(dataset)\n",
    "\n",
    "recs = bpmf_model.recommend(users=test_users, dataset=dataset, k=10, filter_viewed=False)\n",
    "\n",
    "precision = Precision(k=10)\n",
    "recall = Recall(k=10)\n",
    "\n",
    "precision_value = precision.calc(reco=recs, interactions=interactions_test)\n",
    "recall_value = recall.calc(reco=recs, interactions=interactions_test)\n",
    "print(f\"precision: {precision_value}\\nrecall: {recall_value}\")"
   ]
  },
  {
   "cell_type": "code",
   "execution_count": 11,
   "metadata": {},
   "outputs": [
    {
     "name": "stdout",
     "output_type": "stream",
     "text": [
      "9646 3273\n",
      "9646 3273\n",
      "0\n",
      "1\n",
      "2\n",
      "3\n",
      "4\n",
      "5\n",
      "6\n",
      "7\n",
      "8\n",
      "9\n",
      "precision: 0.004790096878363832\n",
      "recall: 0.018530246610991296\n"
     ]
    }
   ],
   "source": [
    "# добавлены гиперпараметры в конструктор\n",
    "from rectools.models import BayesProbMF_V2\n",
    "\n",
    "T, D, initial_cutoff, lowest_rating, highest_rating = 10, 10, 0, 0, 100\n",
    "bpmf_model = BayesProbMF_V2(verbose=1, T=T, D=D, initial_cutoff=initial_cutoff, lowest_rating=lowest_rating, highest_rating=highest_rating)\n",
    "bpmf_model.fit(dataset)\n",
    "\n",
    "recs = bpmf_model.recommend(users=test_users, dataset=dataset, k=10, filter_viewed=False)\n",
    "\n",
    "precision = Precision(k=10)\n",
    "recall = Recall(k=10)\n",
    "\n",
    "precision_value = precision.calc(reco=recs, interactions=interactions_test)\n",
    "recall_value = recall.calc(reco=recs, interactions=interactions_test)\n",
    "print(f\"precision: {precision_value}\\nrecall: {recall_value}\")\n",
    "print(recs['user_id'].unique().shape, recs['item_id'].unique().shape)"
   ]
  },
  {
   "cell_type": "code",
   "execution_count": 8,
   "metadata": {},
   "outputs": [
    {
     "name": "stdout",
     "output_type": "stream",
     "text": [
      "9646 3273\n",
      "9646 3273\n",
      "0\n",
      "iteration: %d, train RMSE: %.6f 1 31.425092745091295\n",
      "1\n",
      "iteration: %d, train RMSE: %.6f 2 19.18725881150648\n",
      "2\n",
      "iteration: %d, train RMSE: %.6f 3 13.950517255640342\n",
      "3\n",
      "iteration: %d, train RMSE: %.6f 4 11.165711969061142\n",
      "4\n",
      "iteration: %d, train RMSE: %.6f 5 9.515639612871112\n",
      "5\n",
      "iteration: %d, train RMSE: %.6f 6 8.46632836114417\n",
      "6\n",
      "iteration: %d, train RMSE: %.6f 7 7.84109699836319\n",
      "7\n",
      "iteration: %d, train RMSE: %.6f 8 7.482268848657962\n",
      "8\n",
      "iteration: %d, train RMSE: %.6f 9 7.284678970206231\n",
      "9\n",
      "iteration: %d, train RMSE: %.6f 10 7.206825565625835\n",
      "precision: 0.0021797631862217437\n",
      "recall: 0.007743531223433212\n"
     ]
    }
   ],
   "source": [
    "# добавлены гиперпараметры в конструктор\n",
    "from rectools.models import BayesProbMF_V2\n",
    "\n",
    "T, D, initial_cutoff, lowest_rating, highest_rating = 10, 20, 0, 0, 100\n",
    "bpmf_model = BayesProbMF_V2(verbose=1, T=T, D=D, initial_cutoff=initial_cutoff, lowest_rating=lowest_rating, highest_rating=highest_rating)\n",
    "bpmf_model.fit(dataset)\n",
    "\n",
    "recs = bpmf_model.recommend(users=test_users, dataset=dataset, k=10, filter_viewed=False)\n",
    "\n",
    "precision = Precision(k=10)\n",
    "recall = Recall(k=10)\n",
    "\n",
    "precision_value = precision.calc(reco=recs, interactions=interactions_test)\n",
    "recall_value = recall.calc(reco=recs, interactions=interactions_test)\n",
    "print(f\"precision: {precision_value}\\nrecall: {recall_value}\")"
   ]
  },
  {
   "cell_type": "code",
   "execution_count": 9,
   "metadata": {},
   "outputs": [
    {
     "name": "stdout",
     "output_type": "stream",
     "text": [
      "9646 3273\n",
      "9646 3273\n",
      "0\n",
      "iteration: %d, train RMSE: %.6f 1 32.63250719505038\n",
      "1\n",
      "iteration: %d, train RMSE: %.6f 2 20.975747831859152\n",
      "2\n",
      "iteration: %d, train RMSE: %.6f 3 15.3575838802549\n",
      "3\n",
      "iteration: %d, train RMSE: %.6f 4 12.221639801814241\n",
      "4\n",
      "iteration: %d, train RMSE: %.6f 5 10.344854840825892\n",
      "5\n",
      "iteration: %d, train RMSE: %.6f 6 9.178165858001162\n",
      "6\n",
      "iteration: %d, train RMSE: %.6f 7 8.463375237254349\n",
      "7\n",
      "iteration: %d, train RMSE: %.6f 8 8.02376023211319\n",
      "8\n",
      "iteration: %d, train RMSE: %.6f 9 7.74766681126756\n",
      "9\n",
      "iteration: %d, train RMSE: %.6f 10 7.629712043753078\n",
      "precision: 0.004790096878363832\n",
      "recall: 0.018530246610991296\n"
     ]
    }
   ],
   "source": [
    "# добавлены гиперпараметры в конструктор\n",
    "from rectools.models import BayesProbMF_V2\n",
    "\n",
    "T, D, initial_cutoff, lowest_rating, highest_rating = 10, 10, 0, 0, 100\n",
    "bpmf_model = BayesProbMF_V2(verbose=1, T=T, D=D, initial_cutoff=initial_cutoff, lowest_rating=lowest_rating, highest_rating=highest_rating)\n",
    "bpmf_model.fit(dataset)\n",
    "\n",
    "recs = bpmf_model.recommend(users=test_users, dataset=dataset, k=10, filter_viewed=False)\n",
    "\n",
    "precision = Precision(k=10)\n",
    "recall = Recall(k=10)\n",
    "\n",
    "precision_value = precision.calc(reco=recs, interactions=interactions_test)\n",
    "recall_value = recall.calc(reco=recs, interactions=interactions_test)\n",
    "print(f\"precision: {precision_value}\\nrecall: {recall_value}\")"
   ]
  },
  {
   "cell_type": "code",
   "execution_count": 13,
   "metadata": {},
   "outputs": [
    {
     "name": "stdout",
     "output_type": "stream",
     "text": [
      "9646 3273\n",
      "9646 3273\n",
      "0\n",
      "iteration: %d, train RMSE: %.6f 1 32.63250719505038\n",
      "1\n",
      "iteration: %d, train RMSE: %.6f 2 20.975747831859152\n",
      "2\n",
      "iteration: %d, train RMSE: %.6f 3 15.3575838802549\n",
      "3\n",
      "iteration: %d, train RMSE: %.6f 4 12.221639801814241\n",
      "4\n",
      "iteration: %d, train RMSE: %.6f 5 10.344854840825892\n",
      "5\n",
      "iteration: %d, train RMSE: %.6f 6 9.178165858001162\n",
      "6\n",
      "iteration: %d, train RMSE: %.6f 7 8.463375237254349\n",
      "7\n",
      "iteration: %d, train RMSE: %.6f 8 8.02376023211319\n",
      "8\n",
      "iteration: %d, train RMSE: %.6f 9 7.74766681126756\n",
      "9\n",
      "iteration: %d, train RMSE: %.6f 10 7.629712043753078\n",
      "precision: 0.004790096878363832\n",
      "recall: 0.018530246610991296\n"
     ]
    }
   ],
   "source": [
    "# добавлены гиперпараметры в конструктор\n",
    "from rectools.models import BayesProbMF_V2\n",
    "\n",
    "T, D, initial_cutoff, lowest_rating, highest_rating = 10, 10, 0, 0, 100\n",
    "bpmf_model = BayesProbMF_V2(verbose=1, T=T, D=D, initial_cutoff=initial_cutoff, lowest_rating=lowest_rating, highest_rating=highest_rating)\n",
    "bpmf_model.fit(dataset)\n",
    "\n",
    "recs = bpmf_model.recommend(users=test_users, dataset=dataset, k=10, filter_viewed=False)\n",
    "\n",
    "precision = Precision(k=10)\n",
    "recall = Recall(k=10)\n",
    "\n",
    "precision_value = precision.calc(reco=recs, interactions=interactions_test)\n",
    "recall_value = recall.calc(reco=recs, interactions=interactions_test)\n",
    "print(f\"precision: {precision_value}\\nrecall: {recall_value}\")"
   ]
  },
  {
   "cell_type": "code",
   "execution_count": 15,
   "metadata": {},
   "outputs": [
    {
     "name": "stdout",
     "output_type": "stream",
     "text": [
      "9646 3273\n",
      "9646 3273\n",
      "0\n",
      "iteration: %d, train RMSE: %.6f 1 32.63250719505038\n",
      "1\n",
      "iteration: %d, train RMSE: %.6f 2 20.975747831859152\n",
      "2\n",
      "iteration: %d, train RMSE: %.6f 3 15.3575838802549\n",
      "3\n",
      "iteration: %d, train RMSE: %.6f 4 12.221639801814241\n",
      "4\n",
      "iteration: %d, train RMSE: %.6f 5 10.344854840825892\n",
      "5\n",
      "iteration: %d, train RMSE: %.6f 6 9.178165858001162\n",
      "6\n",
      "iteration: %d, train RMSE: %.6f 7 8.463375237254349\n",
      "7\n",
      "iteration: %d, train RMSE: %.6f 8 8.02376023211319\n",
      "8\n",
      "iteration: %d, train RMSE: %.6f 9 7.74766681126756\n",
      "9\n",
      "iteration: %d, train RMSE: %.6f 10 7.629712043753078\n",
      "10\n",
      "iteration: %d, train RMSE: %.6f 11 7.6107269054894635\n",
      "11\n",
      "iteration: %d, train RMSE: %.6f 12 7.651304771948132\n",
      "12\n",
      "iteration: %d, train RMSE: %.6f 13 7.716848942060951\n",
      "13\n",
      "iteration: %d, train RMSE: %.6f 14 7.818895957627809\n",
      "14\n",
      "iteration: %d, train RMSE: %.6f 15 7.914735881130123\n",
      "15\n",
      "iteration: %d, train RMSE: %.6f 16 8.047061437714122\n",
      "16\n",
      "iteration: %d, train RMSE: %.6f 17 8.19467128605122\n",
      "17\n",
      "iteration: %d, train RMSE: %.6f 18 8.307439185557815\n",
      "18\n",
      "iteration: %d, train RMSE: %.6f 19 8.416220155026318\n",
      "19\n",
      "iteration: %d, train RMSE: %.6f 20 8.515466647590586\n",
      "20\n",
      "iteration: %d, train RMSE: %.6f 21 8.608177630003981\n",
      "21\n",
      "iteration: %d, train RMSE: %.6f 22 8.706803861036379\n",
      "22\n",
      "iteration: %d, train RMSE: %.6f 23 8.810610943056323\n",
      "23\n",
      "iteration: %d, train RMSE: %.6f 24 8.898795893408366\n",
      "24\n",
      "iteration: %d, train RMSE: %.6f 25 8.989963212288378\n",
      "precision: 0.003794402583423036\n",
      "recall: 0.013803426533168666\n"
     ]
    }
   ],
   "source": [
    "# добавлены гиперпараметры в конструктор\n",
    "from rectools.models import BayesProbMF_V2\n",
    "\n",
    "T, D, initial_cutoff, lowest_rating, highest_rating = 25, 10, 0, 0, 100\n",
    "bpmf_model = BayesProbMF_V2(verbose=1, T=T, D=D, initial_cutoff=initial_cutoff, lowest_rating=lowest_rating, highest_rating=highest_rating)\n",
    "bpmf_model.fit(dataset)\n",
    "\n",
    "recs = bpmf_model.recommend(users=test_users, dataset=dataset, k=10, filter_viewed=False)\n",
    "\n",
    "precision = Precision(k=10)\n",
    "recall = Recall(k=10)\n",
    "\n",
    "precision_value = precision.calc(reco=recs, interactions=interactions_test)\n",
    "recall_value = recall.calc(reco=recs, interactions=interactions_test)\n",
    "print(f\"precision: {precision_value}\\nrecall: {recall_value}\")"
   ]
  },
  {
   "cell_type": "code",
   "execution_count": null,
   "metadata": {},
   "outputs": [
    {
     "name": "stdout",
     "output_type": "stream",
     "text": [
      "9646 3273\n",
      "9646 3273\n",
      "0\n",
      "1\n",
      "2\n",
      "3\n",
      "4\n",
      "5\n",
      "6\n",
      "7\n",
      "8\n",
      "9\n",
      "10\n",
      "11\n",
      "12\n",
      "13\n",
      "14\n",
      "15\n",
      "16\n",
      "17\n",
      "18\n",
      "19\n",
      "20\n",
      "21\n",
      "22\n",
      "23\n",
      "24\n",
      "25\n",
      "26\n",
      "27\n",
      "28\n",
      "29\n",
      "30\n",
      "31\n",
      "32\n",
      "33\n",
      "34\n",
      "35\n",
      "36\n",
      "37\n",
      "38\n",
      "39\n",
      "40\n",
      "41\n",
      "42\n",
      "43\n",
      "44\n",
      "45\n",
      "46\n",
      "47\n",
      "48\n",
      "49\n",
      "precision: 0.0031754574811625404\n",
      "recall: 0.011929837609850235\n"
     ]
    }
   ],
   "source": [
    "# добавлены гиперпараметры в конструктор\n",
    "from rectools.models import BayesProbMF_V2\n",
    "\n",
    "T, D, initial_cutoff, lowest_rating, highest_rating = 50, 10, 0, 0, 100\n",
    "bpmf_model = BayesProbMF_V2(verbose=1, T=T, D=D, initial_cutoff=initial_cutoff, lowest_rating=lowest_rating, highest_rating=highest_rating)\n",
    "bpmf_model.fit(dataset)\n",
    "\n",
    "recs = bpmf_model.recommend(users=test_users, dataset=dataset, k=10, filter_viewed=False)\n",
    "\n",
    "precision = Precision(k=10)\n",
    "recall = Recall(k=10)\n",
    "\n",
    "precision_value = precision.calc(reco=recs, interactions=interactions_test)\n",
    "recall_value = recall.calc(reco=recs, interactions=interactions_test)\n",
    "print(f\"precision: {precision_value}\\nrecall: {recall_value}\")"
   ]
  },
  {
   "cell_type": "code",
   "execution_count": null,
   "metadata": {},
   "outputs": [
    {
     "name": "stdout",
     "output_type": "stream",
     "text": [
      "precision: 0.0031754574811625404\n",
      "recall: 0.011929837609850235\n",
      "(3716,) (1371,)\n"
     ]
    }
   ],
   "source": [
    "recs = bpmf_model.recommend(users=test_users, dataset=dataset, k=10, filter_viewed=False)\n",
    "\n",
    "precision = Precision(k=10)\n",
    "recall = Recall(k=10)\n",
    "\n",
    "precision_value = precision.calc(reco=recs, interactions=interactions_test)\n",
    "recall_value = recall.calc(reco=recs, interactions=interactions_test)\n",
    "print(f\"precision: {precision_value}\\nrecall: {recall_value}\")\n",
    "print(recs['user_id'].unique().shape, recs['item_id'].unique().shape)"
   ]
  }
 ],
 "metadata": {
  "kernelspec": {
   "display_name": ".venv",
   "language": "python",
   "name": "python3"
  },
  "language_info": {
   "codemirror_mode": {
    "name": "ipython",
    "version": 3
   },
   "file_extension": ".py",
   "mimetype": "text/x-python",
   "name": "python",
   "nbconvert_exporter": "python",
   "pygments_lexer": "ipython3",
   "version": "3.10.12"
  }
 },
 "nbformat": 4,
 "nbformat_minor": 2
}
